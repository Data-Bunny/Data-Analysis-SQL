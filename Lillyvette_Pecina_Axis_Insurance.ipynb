{
  "cells": [
    {
      "cell_type": "markdown",
      "metadata": {
        "id": "view-in-github",
        "colab_type": "text"
      },
      "source": [
        "<a href=\"https://colab.research.google.com/github/Lillyvettee/DataProfolio/blob/main/Lillyvette_Pecina_Axis_Insurance.ipynb\" target=\"_parent\"><img src=\"https://colab.research.google.com/assets/colab-badge.svg\" alt=\"Open In Colab\"/></a>"
      ]
    },
    {
      "cell_type": "markdown",
      "metadata": {
        "id": "ZhiVly2S3-Sy"
      },
      "source": [
        "# Project Business Statistics: Axis Insurance\n",
        "\n",
        "**Marks: 60**"
      ]
    },
    {
      "cell_type": "markdown",
      "metadata": {
        "id": "m26kpytI3-S3"
      },
      "source": [
        "## Define Problem Statement and Objectives"
      ]
    },
    {
      "cell_type": "markdown",
      "metadata": {
        "id": "808kKvkL3-S4"
      },
      "source": [
        ""
      ]
    },
    {
      "cell_type": "markdown",
      "metadata": {
        "id": "xXxE0N1L3-S4"
      },
      "source": [
        "## Import all the necessary libraries"
      ]
    },
    {
      "cell_type": "code",
      "execution_count": 7,
      "metadata": {
        "id": "6VUFbHXE3-S6"
      },
      "outputs": [],
      "source": [
        "import numpy as np\n",
        "import pandas as pd\n",
        "from matplotlib import pyplot as plt\n",
        "%matplotlib inline\n",
        "import seaborn as sns\n",
        "\n",
        "# library for statistical tests\n",
        "import scipy.stats as stats"
      ]
    },
    {
      "cell_type": "code",
      "execution_count": 8,
      "metadata": {
        "id": "aaKg7OqF3-S8"
      },
      "outputs": [],
      "source": [
        "sns.set() #setting the default seaborn style for our plots"
      ]
    },
    {
      "cell_type": "markdown",
      "metadata": {
        "id": "nANBJsTb3-S9"
      },
      "source": [
        "## 1.\tExplore the dataset and extract insights using Exploratory Data Analysis. (8 + 6 = 14 Marks)"
      ]
    },
    {
      "cell_type": "markdown",
      "metadata": {
        "id": "ZWYMB80S3-S-"
      },
      "source": [
        "### Exploratory Data Analysis - Step by step approach\n",
        "\n",
        "Typical Data exploration activity consists of the following steps:\n",
        "1.\tImporting Data\n",
        "2.\tVariable Identification\n",
        "3.  Variable Transformation/Feature Creation\n",
        "4.  Missing value detection\n",
        "5.\tUnivariate Analysis\n",
        "6.\tBivariate Analysis"
      ]
    },
    {
      "cell_type": "markdown",
      "metadata": {
        "id": "sHVKfojL3-S-"
      },
      "source": [
        "### Reading the Data into a DataFrame"
      ]
    },
    {
      "cell_type": "code",
      "source": [
        "from google.colab import drive\n",
        "drive.mount('/content/drive')"
      ],
      "metadata": {
        "colab": {
          "base_uri": "https://localhost:8080/"
        },
        "id": "eJqaDK7y5aWM",
        "outputId": "8a90cd68-4c09-42b8-d275-1ad4ac4d845d"
      },
      "execution_count": 9,
      "outputs": [
        {
          "output_type": "stream",
          "name": "stdout",
          "text": [
            "Drive already mounted at /content/drive; to attempt to forcibly remount, call drive.mount(\"/content/drive\", force_remount=True).\n"
          ]
        }
      ]
    },
    {
      "cell_type": "code",
      "execution_count": 10,
      "metadata": {
        "id": "MoNPXsRy3-S_"
      },
      "outputs": [],
      "source": [
        "# write the code for reading the dataset AxisInsurance.csv\n",
        "df = pd.read_csv('/content/drive/MyDrive/GreatLearning/BusinessStats/Project/AxisInsurance.csv')"
      ]
    },
    {
      "cell_type": "markdown",
      "metadata": {
        "id": "-fzmbQ8I3-TA"
      },
      "source": [
        "### Data Overview\n",
        "- View a few rows of the data frame.\n",
        "- Check the shape and data types of the data frame. Add observations.\n",
        "- Fix the data-types (if needed).\n",
        "- Missing Value Check.\n",
        "- Summary statistics from the data frame. Add observations."
      ]
    },
    {
      "cell_type": "code",
      "execution_count": 11,
      "metadata": {
        "id": "Fzr9CQ6S3-TA",
        "colab": {
          "base_uri": "https://localhost:8080/",
          "height": 206
        },
        "outputId": "9c65614d-7e4a-4e55-98e2-6954fde783ac"
      },
      "outputs": [
        {
          "output_type": "execute_result",
          "data": {
            "text/plain": [
              "   age     sex     bmi  children smoker     region      charges\n",
              "0   21  female  16.000         1     no  northeast   3167.45585\n",
              "1   18    male  33.770         1     no  southeast   1725.55230\n",
              "2   28    male  33.000         3     no  southeast   4449.46200\n",
              "3   33    male  22.705         0     no  northwest  21984.47061\n",
              "4   32    male  28.880         0     no  northwest   3866.85520"
            ],
            "text/html": [
              "\n",
              "  <div id=\"df-f1d8080e-6d25-4291-95fe-73caab692acc\">\n",
              "    <div class=\"colab-df-container\">\n",
              "      <div>\n",
              "<style scoped>\n",
              "    .dataframe tbody tr th:only-of-type {\n",
              "        vertical-align: middle;\n",
              "    }\n",
              "\n",
              "    .dataframe tbody tr th {\n",
              "        vertical-align: top;\n",
              "    }\n",
              "\n",
              "    .dataframe thead th {\n",
              "        text-align: right;\n",
              "    }\n",
              "</style>\n",
              "<table border=\"1\" class=\"dataframe\">\n",
              "  <thead>\n",
              "    <tr style=\"text-align: right;\">\n",
              "      <th></th>\n",
              "      <th>age</th>\n",
              "      <th>sex</th>\n",
              "      <th>bmi</th>\n",
              "      <th>children</th>\n",
              "      <th>smoker</th>\n",
              "      <th>region</th>\n",
              "      <th>charges</th>\n",
              "    </tr>\n",
              "  </thead>\n",
              "  <tbody>\n",
              "    <tr>\n",
              "      <th>0</th>\n",
              "      <td>21</td>\n",
              "      <td>female</td>\n",
              "      <td>16.000</td>\n",
              "      <td>1</td>\n",
              "      <td>no</td>\n",
              "      <td>northeast</td>\n",
              "      <td>3167.45585</td>\n",
              "    </tr>\n",
              "    <tr>\n",
              "      <th>1</th>\n",
              "      <td>18</td>\n",
              "      <td>male</td>\n",
              "      <td>33.770</td>\n",
              "      <td>1</td>\n",
              "      <td>no</td>\n",
              "      <td>southeast</td>\n",
              "      <td>1725.55230</td>\n",
              "    </tr>\n",
              "    <tr>\n",
              "      <th>2</th>\n",
              "      <td>28</td>\n",
              "      <td>male</td>\n",
              "      <td>33.000</td>\n",
              "      <td>3</td>\n",
              "      <td>no</td>\n",
              "      <td>southeast</td>\n",
              "      <td>4449.46200</td>\n",
              "    </tr>\n",
              "    <tr>\n",
              "      <th>3</th>\n",
              "      <td>33</td>\n",
              "      <td>male</td>\n",
              "      <td>22.705</td>\n",
              "      <td>0</td>\n",
              "      <td>no</td>\n",
              "      <td>northwest</td>\n",
              "      <td>21984.47061</td>\n",
              "    </tr>\n",
              "    <tr>\n",
              "      <th>4</th>\n",
              "      <td>32</td>\n",
              "      <td>male</td>\n",
              "      <td>28.880</td>\n",
              "      <td>0</td>\n",
              "      <td>no</td>\n",
              "      <td>northwest</td>\n",
              "      <td>3866.85520</td>\n",
              "    </tr>\n",
              "  </tbody>\n",
              "</table>\n",
              "</div>\n",
              "      <button class=\"colab-df-convert\" onclick=\"convertToInteractive('df-f1d8080e-6d25-4291-95fe-73caab692acc')\"\n",
              "              title=\"Convert this dataframe to an interactive table.\"\n",
              "              style=\"display:none;\">\n",
              "        \n",
              "  <svg xmlns=\"http://www.w3.org/2000/svg\" height=\"24px\"viewBox=\"0 0 24 24\"\n",
              "       width=\"24px\">\n",
              "    <path d=\"M0 0h24v24H0V0z\" fill=\"none\"/>\n",
              "    <path d=\"M18.56 5.44l.94 2.06.94-2.06 2.06-.94-2.06-.94-.94-2.06-.94 2.06-2.06.94zm-11 1L8.5 8.5l.94-2.06 2.06-.94-2.06-.94L8.5 2.5l-.94 2.06-2.06.94zm10 10l.94 2.06.94-2.06 2.06-.94-2.06-.94-.94-2.06-.94 2.06-2.06.94z\"/><path d=\"M17.41 7.96l-1.37-1.37c-.4-.4-.92-.59-1.43-.59-.52 0-1.04.2-1.43.59L10.3 9.45l-7.72 7.72c-.78.78-.78 2.05 0 2.83L4 21.41c.39.39.9.59 1.41.59.51 0 1.02-.2 1.41-.59l7.78-7.78 2.81-2.81c.8-.78.8-2.07 0-2.86zM5.41 20L4 18.59l7.72-7.72 1.47 1.35L5.41 20z\"/>\n",
              "  </svg>\n",
              "      </button>\n",
              "      \n",
              "  <style>\n",
              "    .colab-df-container {\n",
              "      display:flex;\n",
              "      flex-wrap:wrap;\n",
              "      gap: 12px;\n",
              "    }\n",
              "\n",
              "    .colab-df-convert {\n",
              "      background-color: #E8F0FE;\n",
              "      border: none;\n",
              "      border-radius: 50%;\n",
              "      cursor: pointer;\n",
              "      display: none;\n",
              "      fill: #1967D2;\n",
              "      height: 32px;\n",
              "      padding: 0 0 0 0;\n",
              "      width: 32px;\n",
              "    }\n",
              "\n",
              "    .colab-df-convert:hover {\n",
              "      background-color: #E2EBFA;\n",
              "      box-shadow: 0px 1px 2px rgba(60, 64, 67, 0.3), 0px 1px 3px 1px rgba(60, 64, 67, 0.15);\n",
              "      fill: #174EA6;\n",
              "    }\n",
              "\n",
              "    [theme=dark] .colab-df-convert {\n",
              "      background-color: #3B4455;\n",
              "      fill: #D2E3FC;\n",
              "    }\n",
              "\n",
              "    [theme=dark] .colab-df-convert:hover {\n",
              "      background-color: #434B5C;\n",
              "      box-shadow: 0px 1px 3px 1px rgba(0, 0, 0, 0.15);\n",
              "      filter: drop-shadow(0px 1px 2px rgba(0, 0, 0, 0.3));\n",
              "      fill: #FFFFFF;\n",
              "    }\n",
              "  </style>\n",
              "\n",
              "      <script>\n",
              "        const buttonEl =\n",
              "          document.querySelector('#df-f1d8080e-6d25-4291-95fe-73caab692acc button.colab-df-convert');\n",
              "        buttonEl.style.display =\n",
              "          google.colab.kernel.accessAllowed ? 'block' : 'none';\n",
              "\n",
              "        async function convertToInteractive(key) {\n",
              "          const element = document.querySelector('#df-f1d8080e-6d25-4291-95fe-73caab692acc');\n",
              "          const dataTable =\n",
              "            await google.colab.kernel.invokeFunction('convertToInteractive',\n",
              "                                                     [key], {});\n",
              "          if (!dataTable) return;\n",
              "\n",
              "          const docLinkHtml = 'Like what you see? Visit the ' +\n",
              "            '<a target=\"_blank\" href=https://colab.research.google.com/notebooks/data_table.ipynb>data table notebook</a>'\n",
              "            + ' to learn more about interactive tables.';\n",
              "          element.innerHTML = '';\n",
              "          dataTable['output_type'] = 'display_data';\n",
              "          await google.colab.output.renderOutput(dataTable, element);\n",
              "          const docLink = document.createElement('div');\n",
              "          docLink.innerHTML = docLinkHtml;\n",
              "          element.appendChild(docLink);\n",
              "        }\n",
              "      </script>\n",
              "    </div>\n",
              "  </div>\n",
              "  "
            ]
          },
          "metadata": {},
          "execution_count": 11
        }
      ],
      "source": [
        "#Displaying the first few rows of the dataset\n",
        "df.head()"
      ]
    },
    {
      "cell_type": "markdown",
      "source": [
        "The first few rows shows a majority of the people gender as male and the lowest bmi is 16 and the highest is 33. everyone one the first few rows arnt smokers"
      ],
      "metadata": {
        "id": "qlcptPRBj3h9"
      }
    },
    {
      "cell_type": "code",
      "source": [
        "df.shape"
      ],
      "metadata": {
        "id": "-USqfFE658IT",
        "colab": {
          "base_uri": "https://localhost:8080/"
        },
        "outputId": "ddd614d0-ace1-4f8d-e059-1e778694a2e5"
      },
      "execution_count": 12,
      "outputs": [
        {
          "output_type": "execute_result",
          "data": {
            "text/plain": [
              "(1338, 7)"
            ]
          },
          "metadata": {},
          "execution_count": 12
        }
      ]
    },
    {
      "cell_type": "markdown",
      "source": [
        "There is 1338 rows and 7 columns"
      ],
      "metadata": {
        "id": "P5LKQ0SYkGqj"
      }
    },
    {
      "cell_type": "code",
      "source": [
        "df.info()"
      ],
      "metadata": {
        "id": "byD6rffW5_gb",
        "colab": {
          "base_uri": "https://localhost:8080/"
        },
        "outputId": "5b556de3-02e9-48e6-933f-f61bd64522ff"
      },
      "execution_count": 13,
      "outputs": [
        {
          "output_type": "stream",
          "name": "stdout",
          "text": [
            "<class 'pandas.core.frame.DataFrame'>\n",
            "RangeIndex: 1338 entries, 0 to 1337\n",
            "Data columns (total 7 columns):\n",
            " #   Column    Non-Null Count  Dtype  \n",
            "---  ------    --------------  -----  \n",
            " 0   age       1338 non-null   int64  \n",
            " 1   sex       1338 non-null   object \n",
            " 2   bmi       1338 non-null   float64\n",
            " 3   children  1338 non-null   int64  \n",
            " 4   smoker    1338 non-null   object \n",
            " 5   region    1338 non-null   object \n",
            " 6   charges   1338 non-null   float64\n",
            "dtypes: float64(2), int64(2), object(3)\n",
            "memory usage: 73.3+ KB\n"
          ]
        }
      ]
    },
    {
      "cell_type": "markdown",
      "source": [
        "* There are total 1338 non-null observations in each of the columns.\n",
        "\n",
        "* There are 7 columns named **'age', 'sex', 'bmi', 'children', 'smoker', 'region', 'charges'** whose data types are **int64, object, float64, int64, object, object, float64** respectively.\n",
        "\n",
        "* sex, smoker and region are objects, we can change them to categories.\n"
      ],
      "metadata": {
        "id": "xvxTZ5M76Gvx"
      }
    },
    {
      "cell_type": "markdown",
      "source": [
        "### Fixing the data types"
      ],
      "metadata": {
        "id": "tpuotZ4O6pvF"
      }
    },
    {
      "cell_type": "code",
      "source": [
        "#setting category \n",
        "df[\"sex\"]=df[\"sex\"].astype(\"category\")\n",
        "df[\"smoker\"]=df[\"smoker\"].astype(\"category\")\n",
        "df[\"region\"]=df[\"region\"].astype(\"category\")"
      ],
      "metadata": {
        "id": "mr6L7iqY6o2k"
      },
      "execution_count": 14,
      "outputs": []
    },
    {
      "cell_type": "markdown",
      "source": [
        "### Check for missing values"
      ],
      "metadata": {
        "id": "BsL_LpNb62Qd"
      }
    },
    {
      "cell_type": "code",
      "source": [
        "df.isnull().sum()"
      ],
      "metadata": {
        "id": "K3V3slvd64tK",
        "colab": {
          "base_uri": "https://localhost:8080/"
        },
        "outputId": "7d5009e0-ffe7-4c07-ee7d-37aed2bdc56b"
      },
      "execution_count": 15,
      "outputs": [
        {
          "output_type": "execute_result",
          "data": {
            "text/plain": [
              "age         0\n",
              "sex         0\n",
              "bmi         0\n",
              "children    0\n",
              "smoker      0\n",
              "region      0\n",
              "charges     0\n",
              "dtype: int64"
            ]
          },
          "metadata": {},
          "execution_count": 15
        }
      ]
    },
    {
      "cell_type": "markdown",
      "source": [
        "there is no missisng values"
      ],
      "metadata": {
        "id": "7gHlR7kjkhUL"
      }
    },
    {
      "cell_type": "markdown",
      "source": [
        "### Five Point Summary"
      ],
      "metadata": {
        "id": "l4JuxHNX7e1S"
      }
    },
    {
      "cell_type": "code",
      "source": [
        "#statistical summary \n",
        "df.describe().T"
      ],
      "metadata": {
        "id": "SBQLKjVw7cw_",
        "colab": {
          "base_uri": "https://localhost:8080/",
          "height": 0
        },
        "outputId": "cfddee22-b179-42c6-b825-683c30d006b0"
      },
      "execution_count": 16,
      "outputs": [
        {
          "output_type": "execute_result",
          "data": {
            "text/plain": [
              "           count          mean           std        min         25%       50%  \\\n",
              "age       1338.0     39.207025     14.049960    18.0000    27.00000    39.000   \n",
              "bmi       1338.0     30.682687      6.145674    14.0000    26.31500    30.400   \n",
              "children  1338.0      1.094918      1.205493     0.0000     0.00000     1.000   \n",
              "charges   1338.0  13270.422265  12110.011237  1121.8739  4740.28715  9382.033   \n",
              "\n",
              "                   75%          max  \n",
              "age          51.000000     64.00000  \n",
              "bmi          34.700000     53.13000  \n",
              "children      2.000000      5.00000  \n",
              "charges   16639.912515  63770.42801  "
            ],
            "text/html": [
              "\n",
              "  <div id=\"df-0dd652c5-5755-4512-984c-dd53ded0fdb3\">\n",
              "    <div class=\"colab-df-container\">\n",
              "      <div>\n",
              "<style scoped>\n",
              "    .dataframe tbody tr th:only-of-type {\n",
              "        vertical-align: middle;\n",
              "    }\n",
              "\n",
              "    .dataframe tbody tr th {\n",
              "        vertical-align: top;\n",
              "    }\n",
              "\n",
              "    .dataframe thead th {\n",
              "        text-align: right;\n",
              "    }\n",
              "</style>\n",
              "<table border=\"1\" class=\"dataframe\">\n",
              "  <thead>\n",
              "    <tr style=\"text-align: right;\">\n",
              "      <th></th>\n",
              "      <th>count</th>\n",
              "      <th>mean</th>\n",
              "      <th>std</th>\n",
              "      <th>min</th>\n",
              "      <th>25%</th>\n",
              "      <th>50%</th>\n",
              "      <th>75%</th>\n",
              "      <th>max</th>\n",
              "    </tr>\n",
              "  </thead>\n",
              "  <tbody>\n",
              "    <tr>\n",
              "      <th>age</th>\n",
              "      <td>1338.0</td>\n",
              "      <td>39.207025</td>\n",
              "      <td>14.049960</td>\n",
              "      <td>18.0000</td>\n",
              "      <td>27.00000</td>\n",
              "      <td>39.000</td>\n",
              "      <td>51.000000</td>\n",
              "      <td>64.00000</td>\n",
              "    </tr>\n",
              "    <tr>\n",
              "      <th>bmi</th>\n",
              "      <td>1338.0</td>\n",
              "      <td>30.682687</td>\n",
              "      <td>6.145674</td>\n",
              "      <td>14.0000</td>\n",
              "      <td>26.31500</td>\n",
              "      <td>30.400</td>\n",
              "      <td>34.700000</td>\n",
              "      <td>53.13000</td>\n",
              "    </tr>\n",
              "    <tr>\n",
              "      <th>children</th>\n",
              "      <td>1338.0</td>\n",
              "      <td>1.094918</td>\n",
              "      <td>1.205493</td>\n",
              "      <td>0.0000</td>\n",
              "      <td>0.00000</td>\n",
              "      <td>1.000</td>\n",
              "      <td>2.000000</td>\n",
              "      <td>5.00000</td>\n",
              "    </tr>\n",
              "    <tr>\n",
              "      <th>charges</th>\n",
              "      <td>1338.0</td>\n",
              "      <td>13270.422265</td>\n",
              "      <td>12110.011237</td>\n",
              "      <td>1121.8739</td>\n",
              "      <td>4740.28715</td>\n",
              "      <td>9382.033</td>\n",
              "      <td>16639.912515</td>\n",
              "      <td>63770.42801</td>\n",
              "    </tr>\n",
              "  </tbody>\n",
              "</table>\n",
              "</div>\n",
              "      <button class=\"colab-df-convert\" onclick=\"convertToInteractive('df-0dd652c5-5755-4512-984c-dd53ded0fdb3')\"\n",
              "              title=\"Convert this dataframe to an interactive table.\"\n",
              "              style=\"display:none;\">\n",
              "        \n",
              "  <svg xmlns=\"http://www.w3.org/2000/svg\" height=\"24px\"viewBox=\"0 0 24 24\"\n",
              "       width=\"24px\">\n",
              "    <path d=\"M0 0h24v24H0V0z\" fill=\"none\"/>\n",
              "    <path d=\"M18.56 5.44l.94 2.06.94-2.06 2.06-.94-2.06-.94-.94-2.06-.94 2.06-2.06.94zm-11 1L8.5 8.5l.94-2.06 2.06-.94-2.06-.94L8.5 2.5l-.94 2.06-2.06.94zm10 10l.94 2.06.94-2.06 2.06-.94-2.06-.94-.94-2.06-.94 2.06-2.06.94z\"/><path d=\"M17.41 7.96l-1.37-1.37c-.4-.4-.92-.59-1.43-.59-.52 0-1.04.2-1.43.59L10.3 9.45l-7.72 7.72c-.78.78-.78 2.05 0 2.83L4 21.41c.39.39.9.59 1.41.59.51 0 1.02-.2 1.41-.59l7.78-7.78 2.81-2.81c.8-.78.8-2.07 0-2.86zM5.41 20L4 18.59l7.72-7.72 1.47 1.35L5.41 20z\"/>\n",
              "  </svg>\n",
              "      </button>\n",
              "      \n",
              "  <style>\n",
              "    .colab-df-container {\n",
              "      display:flex;\n",
              "      flex-wrap:wrap;\n",
              "      gap: 12px;\n",
              "    }\n",
              "\n",
              "    .colab-df-convert {\n",
              "      background-color: #E8F0FE;\n",
              "      border: none;\n",
              "      border-radius: 50%;\n",
              "      cursor: pointer;\n",
              "      display: none;\n",
              "      fill: #1967D2;\n",
              "      height: 32px;\n",
              "      padding: 0 0 0 0;\n",
              "      width: 32px;\n",
              "    }\n",
              "\n",
              "    .colab-df-convert:hover {\n",
              "      background-color: #E2EBFA;\n",
              "      box-shadow: 0px 1px 2px rgba(60, 64, 67, 0.3), 0px 1px 3px 1px rgba(60, 64, 67, 0.15);\n",
              "      fill: #174EA6;\n",
              "    }\n",
              "\n",
              "    [theme=dark] .colab-df-convert {\n",
              "      background-color: #3B4455;\n",
              "      fill: #D2E3FC;\n",
              "    }\n",
              "\n",
              "    [theme=dark] .colab-df-convert:hover {\n",
              "      background-color: #434B5C;\n",
              "      box-shadow: 0px 1px 3px 1px rgba(0, 0, 0, 0.15);\n",
              "      filter: drop-shadow(0px 1px 2px rgba(0, 0, 0, 0.3));\n",
              "      fill: #FFFFFF;\n",
              "    }\n",
              "  </style>\n",
              "\n",
              "      <script>\n",
              "        const buttonEl =\n",
              "          document.querySelector('#df-0dd652c5-5755-4512-984c-dd53ded0fdb3 button.colab-df-convert');\n",
              "        buttonEl.style.display =\n",
              "          google.colab.kernel.accessAllowed ? 'block' : 'none';\n",
              "\n",
              "        async function convertToInteractive(key) {\n",
              "          const element = document.querySelector('#df-0dd652c5-5755-4512-984c-dd53ded0fdb3');\n",
              "          const dataTable =\n",
              "            await google.colab.kernel.invokeFunction('convertToInteractive',\n",
              "                                                     [key], {});\n",
              "          if (!dataTable) return;\n",
              "\n",
              "          const docLinkHtml = 'Like what you see? Visit the ' +\n",
              "            '<a target=\"_blank\" href=https://colab.research.google.com/notebooks/data_table.ipynb>data table notebook</a>'\n",
              "            + ' to learn more about interactive tables.';\n",
              "          element.innerHTML = '';\n",
              "          dataTable['output_type'] = 'display_data';\n",
              "          await google.colab.output.renderOutput(dataTable, element);\n",
              "          const docLink = document.createElement('div');\n",
              "          docLink.innerHTML = docLinkHtml;\n",
              "          element.appendChild(docLink);\n",
              "        }\n",
              "      </script>\n",
              "    </div>\n",
              "  </div>\n",
              "  "
            ]
          },
          "metadata": {},
          "execution_count": 16
        }
      ]
    },
    {
      "cell_type": "markdown",
      "source": [
        "the mean bmi is 30 and the mean age is 39"
      ],
      "metadata": {
        "id": "xbHaq9uJkoR2"
      }
    },
    {
      "cell_type": "code",
      "source": [
        "df['sex'].value_counts()"
      ],
      "metadata": {
        "id": "m9wisl-b7lhu",
        "colab": {
          "base_uri": "https://localhost:8080/"
        },
        "outputId": "ecef15ac-740c-410f-fafd-f88179a252d7"
      },
      "execution_count": 17,
      "outputs": [
        {
          "output_type": "execute_result",
          "data": {
            "text/plain": [
              "male      676\n",
              "female    662\n",
              "Name: sex, dtype: int64"
            ]
          },
          "metadata": {},
          "execution_count": 17
        }
      ]
    },
    {
      "cell_type": "markdown",
      "source": [
        "there is 676 males and 662 females\n"
      ],
      "metadata": {
        "id": "FoIhvdtqku3v"
      }
    },
    {
      "cell_type": "code",
      "source": [
        "df['smoker'].value_counts()"
      ],
      "metadata": {
        "id": "-3Slw5vl7lsb",
        "colab": {
          "base_uri": "https://localhost:8080/"
        },
        "outputId": "636ec15f-7ee2-43b7-fdbc-1139c4a93ad1"
      },
      "execution_count": 18,
      "outputs": [
        {
          "output_type": "execute_result",
          "data": {
            "text/plain": [
              "no     1064\n",
              "yes     274\n",
              "Name: smoker, dtype: int64"
            ]
          },
          "metadata": {},
          "execution_count": 18
        }
      ]
    },
    {
      "cell_type": "markdown",
      "source": [
        "there is 1064 non-smokers and 274 smokers"
      ],
      "metadata": {
        "id": "LkLMTg3Ek1-3"
      }
    },
    {
      "cell_type": "code",
      "source": [
        "df['region'].value_counts()"
      ],
      "metadata": {
        "id": "ADcaiSs97l2N",
        "colab": {
          "base_uri": "https://localhost:8080/"
        },
        "outputId": "f66727c2-aa3a-4c9a-9640-c0f7414e5592"
      },
      "execution_count": 19,
      "outputs": [
        {
          "output_type": "execute_result",
          "data": {
            "text/plain": [
              "southeast    364\n",
              "northwest    325\n",
              "southwest    325\n",
              "northeast    324\n",
              "Name: region, dtype: int64"
            ]
          },
          "metadata": {},
          "execution_count": 19
        }
      ]
    },
    {
      "cell_type": "markdown",
      "source": [
        "in the southeast  region there is   364 people and in the \n",
        "northwest region there is 325 people while in the \n",
        "southwest region there is 325 and in the \n",
        "northeast region 324 people"
      ],
      "metadata": {
        "id": "jNnnKv_ck8dX"
      }
    },
    {
      "cell_type": "markdown",
      "metadata": {
        "id": "AUsDXrS33-TA"
      },
      "source": [
        "### Univariate analysis"
      ]
    },
    {
      "cell_type": "code",
      "execution_count": 20,
      "metadata": {
        "id": "HkLS14uE3-TB"
      },
      "outputs": [],
      "source": [
        "# function to plot a boxplot and a histogram along the same scale.\n",
        "\n",
        "\n",
        "def histogram_boxplot(data, feature, figsize=(12, 7), kde=False, bins=None):\n",
        "    \"\"\"\n",
        "    Boxplot and histogram combined\n",
        "\n",
        "    data: dataframe\n",
        "    feature: dataframe column\n",
        "    figsize: size of figure (default (12,7))\n",
        "    kde: whether to show the density curve (default False)\n",
        "    bins: number of bins for histogram (default None)\n",
        "    \"\"\"\n",
        "    f2, (ax_box2, ax_hist2) = plt.subplots(\n",
        "        nrows=2,  # Number of rows of the subplot grid= 2\n",
        "        sharex=True,  # x-axis will be shared among all subplots\n",
        "        gridspec_kw={\"height_ratios\": (0.25, 0.75)},\n",
        "        figsize=figsize,\n",
        "    )  # creating the 2 subplots\n",
        "    sns.boxplot(\n",
        "        data=data, x=feature, ax=ax_box2, showmeans=True, color=\"violet\"\n",
        "    )  # boxplot will be created and a star will indicate the mean value of the column\n",
        "    sns.histplot(\n",
        "        data=data, x=feature, kde=kde, ax=ax_hist2, bins=bins, palette=\"winter\"\n",
        "    ) if bins else sns.histplot(\n",
        "        data=data, x=feature, kde=kde, ax=ax_hist2\n",
        "    )  # For histogram\n",
        "    ax_hist2.axvline(\n",
        "        data[feature].mean(), color=\"green\", linestyle=\"--\"\n",
        "    )  # Add mean to the histogram\n",
        "    ax_hist2.axvline(\n",
        "        data[feature].median(), color=\"black\", linestyle=\"-\"\n",
        "    )  # Add median to the histogram"
      ]
    },
    {
      "cell_type": "code",
      "execution_count": 21,
      "metadata": {
        "id": "3mlTZCjY3-TB"
      },
      "outputs": [],
      "source": [
        "# function to create labeled barplots\n",
        "\n",
        "\n",
        "def labeled_barplot(data, feature, perc=False, n=None):\n",
        "    \"\"\"\n",
        "    Barplot with percentage at the top\n",
        "\n",
        "    data: dataframe\n",
        "    feature: dataframe column\n",
        "    perc: whether to display percentages instead of count (default is False)\n",
        "    n: displays the top n category levels (default is None, i.e., display all levels)\n",
        "    \"\"\"\n",
        "\n",
        "    total = len(data[feature])  # length of the column\n",
        "    count = data[feature].nunique()\n",
        "    if n is None:\n",
        "        plt.figure(figsize=(count + 1, 5))\n",
        "    else:\n",
        "        plt.figure(figsize=(n + 1, 5))\n",
        "\n",
        "    plt.xticks(rotation=90, fontsize=15)\n",
        "    ax = sns.countplot(data=data, x=feature, palette=\"Paired\", order=data[feature].value_counts().index[:n].sort_values())\n",
        "\n",
        "    for p in ax.patches:\n",
        "        if perc == True:\n",
        "            label = \"{:.1f}%\".format(100 * p.get_height() / total)  # percentage of each class of the category\n",
        "        else:\n",
        "            label = p.get_height()  # count of each level of the category\n",
        "\n",
        "        x = p.get_x() + p.get_width() / 2  # width of the plot\n",
        "        y = p.get_height()  # height of the plot\n",
        "\n",
        "        ax.annotate(label, (x, y), ha=\"center\", va=\"center\", size=12, xytext=(0, 5), textcoords=\"offset points\")  # annotate the percentage\n",
        "\n",
        "    plt.show()  # show the plot"
      ]
    },
    {
      "cell_type": "markdown",
      "source": [
        "#### Age"
      ],
      "metadata": {
        "id": "jSigkQ8H7_Kb"
      }
    },
    {
      "cell_type": "code",
      "source": [
        "# plotting the distribution of 'age'\n",
        "histogram_boxplot(df,'age')"
      ],
      "metadata": {
        "id": "ZZ0AtvP37-Vp",
        "colab": {
          "base_uri": "https://localhost:8080/",
          "height": 0
        },
        "outputId": "a9c382ab-f0fb-44b2-9e65-d102787810a5"
      },
      "execution_count": 22,
      "outputs": [
        {
          "output_type": "display_data",
          "data": {
            "text/plain": [
              "<Figure size 864x504 with 2 Axes>"
            ],
            "image/png": "[encoded data removed]"
          },
          "metadata": {}
        }
      ]
    },
    {
      "cell_type": "markdown",
      "source": [
        "The age medium is 40 and the Q1 is 15 while the Q3 iw 55"
      ],
      "metadata": {
        "id": "08IQES1flutH"
      }
    },
    {
      "cell_type": "markdown",
      "source": [
        "#### BMI"
      ],
      "metadata": {
        "id": "8UYTQWBN8I_L"
      }
    },
    {
      "cell_type": "code",
      "execution_count": 23,
      "metadata": {
        "id": "KhKL1eIe3-TD",
        "colab": {
          "base_uri": "https://localhost:8080/",
          "height": 0
        },
        "outputId": "e53d04a1-1687-4d8e-adfd-bb5edf0893af"
      },
      "outputs": [
        {
          "output_type": "display_data",
          "data": {
            "text/plain": [
              "<Figure size 864x504 with 2 Axes>"
            ],
            "image/png": "[encoded data removed]"
          },
          "metadata": {}
        }
      ],
      "source": [
        "# plotting the distribution of 'BMI'\n",
        "histogram_boxplot(df, 'bmi')"
      ]
    },
    {
      "cell_type": "markdown",
      "source": [
        "The medium is 30 and the Q1 is 28 while the Q3 is 35"
      ],
      "metadata": {
        "id": "E2WSDQCLmFSh"
      }
    },
    {
      "cell_type": "markdown",
      "source": [
        "#### Children"
      ],
      "metadata": {
        "id": "ztMTGTv-8UA4"
      }
    },
    {
      "cell_type": "code",
      "source": [
        "# plotting the distribution of 'children'\n",
        "histogram_boxplot(df,'children')"
      ],
      "metadata": {
        "id": "DAFoG8Wh75xZ",
        "colab": {
          "base_uri": "https://localhost:8080/",
          "height": 0
        },
        "outputId": "49b27994-48df-446e-ac03-e1f8928b2ee5"
      },
      "execution_count": 24,
      "outputs": [
        {
          "output_type": "display_data",
          "data": {
            "text/plain": [
              "<Figure size 864x504 with 2 Axes>"
            ],
            "image/png": "[encoded data removed]"
          },
          "metadata": {}
        }
      ]
    },
    {
      "cell_type": "markdown",
      "source": [
        "The medium is 1 and the Q1 is 0 while the Q3 is 2"
      ],
      "metadata": {
        "id": "X_BkA8oSmQso"
      }
    },
    {
      "cell_type": "markdown",
      "source": [
        "#### Charges"
      ],
      "metadata": {
        "id": "MTconqbo85jC"
      }
    },
    {
      "cell_type": "code",
      "source": [
        "# plotting the distribution of 'charges'\n",
        "histogram_boxplot(df,'charges')"
      ],
      "metadata": {
        "id": "CggT8FT676ih",
        "colab": {
          "base_uri": "https://localhost:8080/",
          "height": 0
        },
        "outputId": "679a1661-a860-4f2f-ccd5-4a5fd0d37ee6"
      },
      "execution_count": 25,
      "outputs": [
        {
          "output_type": "display_data",
          "data": {
            "text/plain": [
              "<Figure size 864x504 with 2 Axes>"
            ],
            "image/png": "[encoded data removed]"
          },
          "metadata": {}
        }
      ]
    },
    {
      "cell_type": "markdown",
      "source": [
        "The medium is 10000 and the Q1 is 500 while the Q3 is 10500 with outliers"
      ],
      "metadata": {
        "id": "XVcOzTxcmXY3"
      }
    },
    {
      "cell_type": "markdown",
      "source": [
        "#### Sex"
      ],
      "metadata": {
        "id": "qFicBi7H9LpL"
      }
    },
    {
      "cell_type": "code",
      "source": [
        "# plotting the barplot of 'sex'\n",
        "labeled_barplot(df, 'sex', perc=True)"
      ],
      "metadata": {
        "id": "WhzuzNZO76sh",
        "colab": {
          "base_uri": "https://localhost:8080/",
          "height": 0
        },
        "outputId": "2b56b2a5-7fc9-49a4-d036-c6ea52b4ad01"
      },
      "execution_count": 26,
      "outputs": [
        {
          "output_type": "display_data",
          "data": {
            "text/plain": [
              "<Figure size 216x360 with 1 Axes>"
            ],
            "image/png": "[encoded data removed]"
          },
          "metadata": {}
        }
      ]
    },
    {
      "cell_type": "markdown",
      "source": [
        "there is 49.5 percent of people that are females while 50.5 percent are males"
      ],
      "metadata": {
        "id": "HVy2bFDimg9Z"
      }
    },
    {
      "cell_type": "markdown",
      "source": [
        "#### Children"
      ],
      "metadata": {
        "id": "q3Mqph909WMW"
      }
    },
    {
      "cell_type": "code",
      "source": [
        "# plotting the barplot of 'children'\n",
        "labeled_barplot(df, 'children', perc=True)"
      ],
      "metadata": {
        "id": "tLxL96J476zZ",
        "colab": {
          "base_uri": "https://localhost:8080/",
          "height": 0
        },
        "outputId": "be3baf48-1ed3-4455-becc-8a31fdf1c10d"
      },
      "execution_count": 27,
      "outputs": [
        {
          "output_type": "display_data",
          "data": {
            "text/plain": [
              "<Figure size 504x360 with 1 Axes>"
            ],
            "image/png": "[encoded data removed]"
          },
          "metadata": {}
        }
      ]
    },
    {
      "cell_type": "markdown",
      "source": [
        "Most of the children are a few months old"
      ],
      "metadata": {
        "id": "LDLe8q00mo7r"
      }
    },
    {
      "cell_type": "markdown",
      "source": [
        "#### Smoker"
      ],
      "metadata": {
        "id": "Ff9k3Yxd9fzW"
      }
    },
    {
      "cell_type": "code",
      "source": [
        "# plotting the barplot of 'Smoker'\n",
        "labeled_barplot(df, 'smoker', perc=True)"
      ],
      "metadata": {
        "id": "cFB6X6hl77CK",
        "colab": {
          "base_uri": "https://localhost:8080/",
          "height": 0
        },
        "outputId": "9e6c94ac-936d-431e-884c-248724ba09bd"
      },
      "execution_count": 28,
      "outputs": [
        {
          "output_type": "display_data",
          "data": {
            "text/plain": [
              "<Figure size 216x360 with 1 Axes>"
            ],
            "image/png": "[encoded data removed]"
          },
          "metadata": {}
        }
      ]
    },
    {
      "cell_type": "markdown",
      "source": [
        "Most of the people dont smoke"
      ],
      "metadata": {
        "id": "u-fwlEi1mtjN"
      }
    },
    {
      "cell_type": "markdown",
      "source": [
        "#### Region"
      ],
      "metadata": {
        "id": "cJ4K-JZp9dvR"
      }
    },
    {
      "cell_type": "code",
      "source": [
        "# plotting the barplot of 'region'\n",
        "labeled_barplot(df, 'region', perc=True)"
      ],
      "metadata": {
        "id": "X65CN26G9ewc",
        "colab": {
          "base_uri": "https://localhost:8080/",
          "height": 0
        },
        "outputId": "f610d419-8d19-45d7-cc46-38bc7be6ce71"
      },
      "execution_count": 29,
      "outputs": [
        {
          "output_type": "display_data",
          "data": {
            "text/plain": [
              "<Figure size 360x360 with 1 Axes>"
            ],
            "image/png": "[encoded data removed]"
          },
          "metadata": {}
        }
      ]
    },
    {
      "cell_type": "markdown",
      "source": [
        "Everyone is roughly spread out in all the regions"
      ],
      "metadata": {
        "id": "SdkJAE1Gmxbi"
      }
    },
    {
      "cell_type": "markdown",
      "metadata": {
        "id": "--tU7e5S3-TE"
      },
      "source": [
        "### Bivariate Analysis"
      ]
    },
    {
      "cell_type": "code",
      "source": [
        "sns.barplot(data=df, x = \"children\" , y= \"charges\")  \n",
        "plt.show()"
      ],
      "metadata": {
        "id": "skZcI7v_HBgU",
        "colab": {
          "base_uri": "https://localhost:8080/",
          "height": 0
        },
        "outputId": "cb95362d-d5c3-44d9-b641-9b77d3a40534"
      },
      "execution_count": 30,
      "outputs": [
        {
          "output_type": "display_data",
          "data": {
            "text/plain": [
              "<Figure size 432x288 with 1 Axes>"
            ],
            "image/png": "[encoded data removed]"
          },
          "metadata": {}
        }
      ]
    },
    {
      "cell_type": "code",
      "source": [
        "plt.figure(figsize=(10,7))\n",
        "sns.boxplot(data=df,x='sex',y='bmi')\n",
        "plt.show()"
      ],
      "metadata": {
        "id": "_7fZfrHGHRPC",
        "colab": {
          "base_uri": "https://localhost:8080/",
          "height": 0
        },
        "outputId": "3293fbb4-dabb-47ab-919e-b5daa175ee09"
      },
      "execution_count": 31,
      "outputs": [
        {
          "output_type": "display_data",
          "data": {
            "text/plain": [
              "<Figure size 720x504 with 1 Axes>"
            ],
            "image/png": "[encoded data removed]"
          },
          "metadata": {}
        }
      ]
    },
    {
      "cell_type": "code",
      "source": [
        "plt.figure(figsize=(10,7))\n",
        "sns.boxplot(data=df,x='children',y='bmi')\n",
        "plt.show()"
      ],
      "metadata": {
        "id": "3TMpBca--TFN",
        "colab": {
          "base_uri": "https://localhost:8080/",
          "height": 0
        },
        "outputId": "ef8d8a91-f79d-452e-83ec-598380eef645"
      },
      "execution_count": 32,
      "outputs": [
        {
          "output_type": "display_data",
          "data": {
            "text/plain": [
              "<Figure size 720x504 with 1 Axes>"
            ],
            "image/png": "[encoded data removed]"
          },
          "metadata": {}
        }
      ]
    },
    {
      "cell_type": "code",
      "source": [
        "plt.figure(figsize=(10,7))\n",
        "sns.boxplot(data=df,x='bmi',y='smoker')\n",
        "plt.show()"
      ],
      "metadata": {
        "id": "dHa-WBXr-cvX",
        "colab": {
          "base_uri": "https://localhost:8080/",
          "height": 0
        },
        "outputId": "d672bb90-0910-4272-a601-3fd9ad2937b4"
      },
      "execution_count": 33,
      "outputs": [
        {
          "output_type": "display_data",
          "data": {
            "text/plain": [
              "<Figure size 720x504 with 1 Axes>"
            ],
            "image/png": "[encoded data removed]"
          },
          "metadata": {}
        }
      ]
    },
    {
      "cell_type": "code",
      "source": [
        "plt.figure(figsize=(10,7))\n",
        "sns.boxplot(data=df,x='charges',y='region')\n",
        "plt.show()"
      ],
      "metadata": {
        "id": "07BY7htJ-i1q",
        "colab": {
          "base_uri": "https://localhost:8080/",
          "height": 0
        },
        "outputId": "4806caf7-bc8c-435e-bb08-c7601250f122"
      },
      "execution_count": 34,
      "outputs": [
        {
          "output_type": "display_data",
          "data": {
            "text/plain": [
              "<Figure size 720x504 with 1 Axes>"
            ],
            "image/png": "[encoded data removed]"
          },
          "metadata": {}
        }
      ]
    },
    {
      "cell_type": "code",
      "source": [
        "plt.figure(figsize=(10,7))\n",
        "sns.boxplot(data=df,x='smoker',y='charges')\n",
        "plt.show()"
      ],
      "metadata": {
        "id": "S_vb9FWX_C5q",
        "colab": {
          "base_uri": "https://localhost:8080/",
          "height": 0
        },
        "outputId": "e7d231ab-1cc4-455d-fe71-8d9538e69649"
      },
      "execution_count": 35,
      "outputs": [
        {
          "output_type": "display_data",
          "data": {
            "text/plain": [
              "<Figure size 720x504 with 1 Axes>"
            ],
            "image/png": "[encoded data removed]"
          },
          "metadata": {}
        }
      ]
    },
    {
      "cell_type": "markdown",
      "metadata": {
        "id": "8UMUeAB-3-TE"
      },
      "source": [
        "## 2. Prove(or disprove)  that the medical claims made by the people who smoke is greater than those who don't? "
      ]
    },
    {
      "cell_type": "markdown",
      "metadata": {
        "id": "O9wChoGQ3-TF"
      },
      "source": [
        "### Perform Visual Analysis"
      ]
    },
    {
      "cell_type": "code",
      "execution_count": 36,
      "metadata": {
        "id": "vOqrG74n3-TF",
        "colab": {
          "base_uri": "https://localhost:8080/",
          "height": 0
        },
        "outputId": "fb75f160-1be7-4e36-d48d-07c802522a6e"
      },
      "outputs": [
        {
          "output_type": "display_data",
          "data": {
            "text/plain": [
              "<Figure size 576x432 with 1 Axes>"
            ],
            "image/png": "[encoded data removed]"
          },
          "metadata": {}
        }
      ],
      "source": [
        "# Medical charges for smokers and non-smokers\n",
        "plt.figure(figsize=(8,6))\n",
        "sns.scatterplot(data = df, x = 'age', y = 'charges', hue='smoker',  palette= ['blue','green'] )\n",
        "plt.show()"
      ]
    },
    {
      "cell_type": "markdown",
      "source": [
        "Smokers have more expensive chargers and it looks like there are evenly spread out through age group. Non smokers have charges that cost less"
      ],
      "metadata": {
        "id": "GeMzBBIYnF9W"
      }
    },
    {
      "cell_type": "markdown",
      "metadata": {
        "id": "dw5C-ThM3-TG"
      },
      "source": [
        "### Step 1: Define the null and alternate hypotheses"
      ]
    },
    {
      "cell_type": "markdown",
      "metadata": {
        "id": "6FZjQxxE3-TG"
      },
      "source": [
        ">Ho The mean medical claims made by members who smoke is the same as than the mean number of cliams that are made by members who dont smoke. <br>\n",
        "> H0:  The mean medical claims made by smoking members is greater than to the mean claims made by members who dont smoke"
      ]
    },
    {
      "cell_type": "markdown",
      "metadata": {
        "id": "jChihi5E3-TH"
      },
      "source": [
        "### Step 2: Select Appropriate test"
      ]
    },
    {
      "cell_type": "markdown",
      "metadata": {
        "id": "UKvva8hy3-TH"
      },
      "source": [
        "This is a one-tailed test concerning two population means from two independent populations. The population standard deviations are unknown so the appropriate test will be the two sample independent t-test\n"
      ]
    },
    {
      "cell_type": "markdown",
      "metadata": {
        "id": "L0v51kgs3-TH"
      },
      "source": [
        "### Step 3: Decide the significance level"
      ]
    },
    {
      "cell_type": "markdown",
      "metadata": {
        "id": "MVKKmOo33-TI"
      },
      "source": [
        "Significance stated by stackholders is α = 0.05."
      ]
    },
    {
      "cell_type": "markdown",
      "metadata": {
        "id": "d7p1bL1R3-TI"
      },
      "source": [
        "### Step 4: Collect and prepare data"
      ]
    },
    {
      "cell_type": "code",
      "execution_count": 37,
      "metadata": {
        "id": "XFm5m23T3-TI"
      },
      "outputs": [],
      "source": [
        "# extract values for smokers and non_smokers\n",
        "smokers_charges = df[df['smoker'] == 'yes']['charges']\n",
        "non_smokers_charges =  df[df['smoker'] == 'no']['charges']"
      ]
    },
    {
      "cell_type": "code",
      "execution_count": 38,
      "metadata": {
        "id": "ngDDP5QV39C7",
        "colab": {
          "base_uri": "https://localhost:8080/"
        },
        "outputId": "218b7ef9-c752-4192-93ef-f768e441ae33"
      },
      "outputs": [
        {
          "output_type": "stream",
          "name": "stdout",
          "text": [
            "The sample mean of the charges of smokers is: 32050.23\n",
            "The sample mean of the charges of non-smokers: 8434.27\n",
            "The sample standard deviation of the charges of smokers is: 11541.55\n",
            "The sample standard deviation of the charges of non-smokers is: 5993.78\n"
          ]
        }
      ],
      "source": [
        "print(\"The sample mean of the charges of smokers is:\", round(smokers_charges.mean(),2))\n",
        "print(\"The sample mean of the charges of non-smokers:\", round(non_smokers_charges.mean(),2))\n",
        "print('The sample standard deviation of the charges of smokers is:', round(smokers_charges.std(),2))\n",
        "print('The sample standard deviation of the charges of non-smokers is:', round(non_smokers_charges.std(),2))"
      ]
    },
    {
      "cell_type": "markdown",
      "source": [
        "As the sample standard deviations are different, the population standard deviations may be assumed to be different."
      ],
      "metadata": {
        "id": "Irdl5Tu1ow2u"
      }
    },
    {
      "cell_type": "markdown",
      "metadata": {
        "id": "dhdzDWs73-TJ"
      },
      "source": [
        "### Step 5: Calculate the p-value"
      ]
    },
    {
      "cell_type": "code",
      "execution_count": 39,
      "metadata": {
        "id": "uiaIC1X23-TK",
        "colab": {
          "base_uri": "https://localhost:8080/"
        },
        "outputId": "0958b2e6-e06c-4210-b0b5-e10b371e7066"
      },
      "outputs": [
        {
          "output_type": "stream",
          "name": "stdout",
          "text": [
            "The p-value is 5.88946444671698e-103\n"
          ]
        }
      ],
      "source": [
        "#importing ttest_ind\n",
        "from scipy.stats import ttest_ind \n",
        "\n",
        "#find the p-value\n",
        "test_stat, p_value = ttest_ind(smokers_charges,non_smokers_charges, equal_var = False)\n",
        "\n",
        "print('The p-value is', p_value)"
      ]
    },
    {
      "cell_type": "markdown",
      "metadata": {
        "id": "1eizeVNn3-TK"
      },
      "source": [
        "### Step 6: Compare the p-value with $\\alpha$"
      ]
    },
    {
      "cell_type": "code",
      "execution_count": 40,
      "metadata": {
        "id": "saf_XUqT3-TK",
        "colab": {
          "base_uri": "https://localhost:8080/"
        },
        "outputId": "db5de6bc-faf3-4282-b887-c515a3e12227"
      },
      "outputs": [
        {
          "output_type": "stream",
          "name": "stdout",
          "text": [
            "As the p-value 5.88946444671698e-103 is less than the level of significance, we reject the null hypothesis.\n"
          ]
        }
      ],
      "source": [
        "if p_value < 0.05:\n",
        "    print(f'As the p-value {p_value} is less than the level of significance, we reject the null hypothesis.')\n",
        "else:\n",
        "    print(f'As the p-value {p_value} is greater than the level of significance, we fail to reject the null hypothesis.')"
      ]
    },
    {
      "cell_type": "markdown",
      "metadata": {
        "id": "3GkhqFQb3-TL"
      },
      "source": [
        "### Step 7:  Draw inference"
      ]
    },
    {
      "cell_type": "markdown",
      "metadata": {
        "id": "ecrqbWI13-TL"
      },
      "source": [
        "Since the p-value is greater than the 5% significance level, we fail to reject the null hypothesis. Hence, we have enough statistical evidence to say that the mean of members claims that are smokers are greater then non-smokers\n"
      ]
    },
    {
      "cell_type": "markdown",
      "metadata": {
        "id": "wSkSRI9u3-TL"
      },
      "source": [
        "## 3. Prove (or disprove) with statistical evidence that BMI of females is different from that of males."
      ]
    },
    {
      "cell_type": "code",
      "execution_count": 41,
      "metadata": {
        "id": "YTE_ecQ_3-TM",
        "colab": {
          "base_uri": "https://localhost:8080/",
          "height": 285
        },
        "outputId": "44b3717b-d7a5-41fd-b2f7-ad633b800c9e"
      },
      "outputs": [
        {
          "output_type": "display_data",
          "data": {
            "text/plain": [
              "<Figure size 432x288 with 1 Axes>"
            ],
            "image/png": "[encoded data removed]"
          },
          "metadata": {}
        }
      ],
      "source": [
        "# visual analysis of the BMI of females vs males\n",
        "sns.barplot ( data=df, x='sex', y = 'bmi')\n",
        "plt.show()"
      ]
    },
    {
      "cell_type": "markdown",
      "source": [
        "By observing the above plot, we can say that overall BMI of members that are male is higher than females"
      ],
      "metadata": {
        "id": "_hvXFjf9uwC-"
      }
    },
    {
      "cell_type": "markdown",
      "source": [
        "### Step 1: Define the null and alternative hypotheses"
      ],
      "metadata": {
        "id": "6FJLXEjivC6d"
      }
    },
    {
      "cell_type": "markdown",
      "source": [
        "> $H_0:$ The BMI rate for members who are female is the same as the BMI rate for members who are males. <br>\n",
        "> $H_a:$ The BMI rate for members who are female is have a BMI that is lower than  the BMI rate for members who are male."
      ],
      "metadata": {
        "id": "UWXze9mMvCrJ"
      }
    },
    {
      "cell_type": "markdown",
      "source": [
        "### Step 2: Select Appropriate test"
      ],
      "metadata": {
        "id": "ufe8rxnmvCVa"
      }
    },
    {
      "cell_type": "markdown",
      "source": [
        "This is a one-tailed test concerning two population proportions from two independent populations. Hence, the two-sample proportion z-test will be the appropriate test for this problem."
      ],
      "metadata": {
        "id": "DZJ2xgC4vBel"
      }
    },
    {
      "cell_type": "markdown",
      "source": [
        "### Step 3: Decide the significance level"
      ],
      "metadata": {
        "id": "3j4UFLixvvXA"
      }
    },
    {
      "cell_type": "markdown",
      "source": [
        "As given in the problem statement, we select α = 0.05."
      ],
      "metadata": {
        "id": "BcnbcjjAvvgt"
      }
    },
    {
      "cell_type": "markdown",
      "source": [
        "### Step 4: Collect and prepare data"
      ],
      "metadata": {
        "id": "jFqpJxrjvxNx"
      }
    },
    {
      "cell_type": "code",
      "source": [
        "# number of female bmi\n",
        "female_bmi = df[df.sex=='female']['bmi']\n",
        "# number of male bmi\n",
        "male_bmi = df[df.sex=='male']['bmi']\n",
        "\n",
        "\n",
        "# number of female \n",
        "female_count = df[df.sex=='female'].value_counts().sum()\n",
        "# number of male bmi\n",
        "male_count = df[df.sex=='male'].value_counts().sum()\n",
        "print(female_count)\n",
        "print(male_count)"
      ],
      "metadata": {
        "id": "CPfiuKgpv3Ei",
        "colab": {
          "base_uri": "https://localhost:8080/"
        },
        "outputId": "f64faf5a-cdc7-4cba-b39e-ffed1b16c04d"
      },
      "execution_count": 42,
      "outputs": [
        {
          "output_type": "stream",
          "name": "stdout",
          "text": [
            "662\n",
            "676\n"
          ]
        }
      ]
    },
    {
      "cell_type": "code",
      "execution_count": 43,
      "metadata": {
        "id": "WTetnqzk39DE",
        "colab": {
          "base_uri": "https://localhost:8080/"
        },
        "outputId": "19eb44e7-3f4d-47f4-c61c-f8966b6416c2"
      },
      "outputs": [
        {
          "output_type": "stream",
          "name": "stdout",
          "text": [
            "The sample mean of the BMI's of females is: 30.42\n",
            "The sample mean of the BMI's of males is: 30.94\n",
            "The sample standard deviation of the BMI's of females is: 6.14\n",
            "The sample standard deviation of the BMI's of males is: 6.14\n"
          ]
        }
      ],
      "source": [
        "print(\"The sample mean of the BMI's of females is:\", round(female_bmi.mean(),2))\n",
        "print(\"The sample mean of the BMI's of males is:\", round(male_bmi.mean(),2))\n",
        "print(\"The sample standard deviation of the BMI's of females is:\", round(female_bmi.std(),2))\n",
        "print(\"The sample standard deviation of the BMI's of males is:\", round(male_bmi.std(),2))"
      ]
    },
    {
      "cell_type": "markdown",
      "source": [
        ""
      ],
      "metadata": {
        "id": "itRAkYXNv2qX"
      }
    },
    {
      "cell_type": "markdown",
      "source": [
        "### Step 5: Calculate the p-value"
      ],
      "metadata": {
        "id": "JmyWRStBv592"
      }
    },
    {
      "cell_type": "code",
      "source": [
        "from statsmodels.stats.proportion import proportions_ztest\n",
        "\n",
        "test_stat, p_value = proportions_ztest([30,39], [female_count,male_count],alternative=\"larger\")\n",
        "print('The p-value is', p_value)"
      ],
      "metadata": {
        "id": "2psutS7t-ReX",
        "colab": {
          "base_uri": "https://localhost:8080/"
        },
        "outputId": "a38b41bc-07b2-49fb-f801-7d07aaa85c91"
      },
      "execution_count": 44,
      "outputs": [
        {
          "output_type": "stream",
          "name": "stdout",
          "text": [
            "The p-value is 0.8469283117581257\n"
          ]
        },
        {
          "output_type": "stream",
          "name": "stderr",
          "text": [
            "/usr/local/lib/python3.7/dist-packages/statsmodels/tools/_testing.py:19: FutureWarning: pandas.util.testing is deprecated. Use the functions in the public API at pandas.testing instead.\n",
            "  import pandas.util.testing as tm\n"
          ]
        }
      ]
    },
    {
      "cell_type": "markdown",
      "source": [
        "### Step 6: Compare the p-value with $\\alpha$"
      ],
      "metadata": {
        "id": "XBsPHegCzVhx"
      }
    },
    {
      "cell_type": "code",
      "source": [
        "# conclusion based on p-value\n",
        "if p_value < 0.05:\n",
        "    print(f'As the p-value {p_value} is less than the level of significance, we reject the null hypothesis.')\n",
        "else:\n",
        "    print(f'As the p-value {p_value} is greater than the level of significance, we fail to reject the null hypothesis.')"
      ],
      "metadata": {
        "id": "sH00kBv7zTxW",
        "colab": {
          "base_uri": "https://localhost:8080/"
        },
        "outputId": "61d24784-b3bc-437b-fc3e-86a3639f1712"
      },
      "execution_count": 45,
      "outputs": [
        {
          "output_type": "stream",
          "name": "stdout",
          "text": [
            "As the p-value 0.8469283117581257 is greater than the level of significance, we fail to reject the null hypothesis.\n"
          ]
        }
      ]
    },
    {
      "cell_type": "markdown",
      "source": [
        "### Step 7:  Draw inference"
      ],
      "metadata": {
        "id": "91cRiieszVov"
      }
    },
    {
      "cell_type": "markdown",
      "source": [
        "the p value is greater than the level of significance, we fail to reject the null hypothesis. The BMI rate for members who are female is the same as the BMI rate for members who are males."
      ],
      "metadata": {
        "id": "8Jz3mfQPEXMx"
      }
    },
    {
      "cell_type": "markdown",
      "metadata": {
        "id": "bew59Gf_3-TM"
      },
      "source": [
        "## 4. Does the smoking habit of customers depend on their region?\n"
      ]
    },
    {
      "cell_type": "markdown",
      "source": [
        "### Perform Visual Analysis"
      ],
      "metadata": {
        "id": "r8I1fv2-3OzI"
      }
    },
    {
      "cell_type": "code",
      "source": [
        "pd.crosstab(df['region'],df['smoker'],normalize='index').plot(kind=\"bar\", figsize=(8,8), stacked=True) \n",
        "plt.show()"
      ],
      "metadata": {
        "id": "PJit4UJ93PzF",
        "colab": {
          "base_uri": "https://localhost:8080/",
          "height": 0
        },
        "outputId": "5560bf0b-6c74-4fea-9300-d10036accff6"
      },
      "execution_count": 46,
      "outputs": [
        {
          "output_type": "display_data",
          "data": {
            "text/plain": [
              "<Figure size 576x576 with 1 Axes>"
            ],
            "image/png": "[encoded data removed]"
          },
          "metadata": {}
        }
      ]
    },
    {
      "cell_type": "markdown",
      "source": [
        "The distribution members who smoke is not uniformly distributed. "
      ],
      "metadata": {
        "id": "Ij5AHYeA6GF5"
      }
    },
    {
      "cell_type": "markdown",
      "source": [
        "### Step 1: Define the null and alternate hypotheses"
      ],
      "metadata": {
        "id": "_5dDu4_62uAh"
      }
    },
    {
      "cell_type": "markdown",
      "source": [
        "> $H_0:$ The members who smoke  are the same no matter what their region is <br>\n",
        "$H_a:$ The members who smoke  depends on their region"
      ],
      "metadata": {
        "id": "xp-guYUF6ryn"
      }
    },
    {
      "cell_type": "markdown",
      "source": [
        "### Step 2: Select Appropriate test\n"
      ],
      "metadata": {
        "id": "7HDpHQG62vhk"
      }
    },
    {
      "cell_type": "markdown",
      "source": [
        "This is a problem of Chi-square test of independence, concerning the two independent categorical variables, - smoker and region."
      ],
      "metadata": {
        "id": "RZMmtgr-6_QK"
      }
    },
    {
      "cell_type": "markdown",
      "source": [
        "### Step 3: Decide the significance level\n"
      ],
      "metadata": {
        "id": "gvFaUVDN2zLl"
      }
    },
    {
      "cell_type": "markdown",
      "source": [
        "As given in the problem statement, we select α = 0.05."
      ],
      "metadata": {
        "id": "ur3lWxJ77SaO"
      }
    },
    {
      "cell_type": "markdown",
      "source": [
        "### Step 4: Collect and prepare data\n"
      ],
      "metadata": {
        "id": "Wt0XFfdO23Ww"
      }
    },
    {
      "cell_type": "code",
      "source": [
        "# the table showing the distribution of two categorical variables\n",
        "contingency_table = pd.crosstab(df['smoker'], df['region'])\n",
        "contingency_table"
      ],
      "metadata": {
        "id": "jEpsMRPK4LnA",
        "colab": {
          "base_uri": "https://localhost:8080/",
          "height": 0
        },
        "outputId": "7c7cf191-9977-43e8-94a1-fa9ad860c55e"
      },
      "execution_count": 47,
      "outputs": [
        {
          "output_type": "execute_result",
          "data": {
            "text/plain": [
              "region  northeast  northwest  southeast  southwest\n",
              "smoker                                            \n",
              "no            257        267        273        267\n",
              "yes            67         58         91         58"
            ],
            "text/html": [
              "\n",
              "  <div id=\"df-83615db1-b3db-4f3f-ac81-36e3366389ef\">\n",
              "    <div class=\"colab-df-container\">\n",
              "      <div>\n",
              "<style scoped>\n",
              "    .dataframe tbody tr th:only-of-type {\n",
              "        vertical-align: middle;\n",
              "    }\n",
              "\n",
              "    .dataframe tbody tr th {\n",
              "        vertical-align: top;\n",
              "    }\n",
              "\n",
              "    .dataframe thead th {\n",
              "        text-align: right;\n",
              "    }\n",
              "</style>\n",
              "<table border=\"1\" class=\"dataframe\">\n",
              "  <thead>\n",
              "    <tr style=\"text-align: right;\">\n",
              "      <th>region</th>\n",
              "      <th>northeast</th>\n",
              "      <th>northwest</th>\n",
              "      <th>southeast</th>\n",
              "      <th>southwest</th>\n",
              "    </tr>\n",
              "    <tr>\n",
              "      <th>smoker</th>\n",
              "      <th></th>\n",
              "      <th></th>\n",
              "      <th></th>\n",
              "      <th></th>\n",
              "    </tr>\n",
              "  </thead>\n",
              "  <tbody>\n",
              "    <tr>\n",
              "      <th>no</th>\n",
              "      <td>257</td>\n",
              "      <td>267</td>\n",
              "      <td>273</td>\n",
              "      <td>267</td>\n",
              "    </tr>\n",
              "    <tr>\n",
              "      <th>yes</th>\n",
              "      <td>67</td>\n",
              "      <td>58</td>\n",
              "      <td>91</td>\n",
              "      <td>58</td>\n",
              "    </tr>\n",
              "  </tbody>\n",
              "</table>\n",
              "</div>\n",
              "      <button class=\"colab-df-convert\" onclick=\"convertToInteractive('df-83615db1-b3db-4f3f-ac81-36e3366389ef')\"\n",
              "              title=\"Convert this dataframe to an interactive table.\"\n",
              "              style=\"display:none;\">\n",
              "        \n",
              "  <svg xmlns=\"http://www.w3.org/2000/svg\" height=\"24px\"viewBox=\"0 0 24 24\"\n",
              "       width=\"24px\">\n",
              "    <path d=\"M0 0h24v24H0V0z\" fill=\"none\"/>\n",
              "    <path d=\"M18.56 5.44l.94 2.06.94-2.06 2.06-.94-2.06-.94-.94-2.06-.94 2.06-2.06.94zm-11 1L8.5 8.5l.94-2.06 2.06-.94-2.06-.94L8.5 2.5l-.94 2.06-2.06.94zm10 10l.94 2.06.94-2.06 2.06-.94-2.06-.94-.94-2.06-.94 2.06-2.06.94z\"/><path d=\"M17.41 7.96l-1.37-1.37c-.4-.4-.92-.59-1.43-.59-.52 0-1.04.2-1.43.59L10.3 9.45l-7.72 7.72c-.78.78-.78 2.05 0 2.83L4 21.41c.39.39.9.59 1.41.59.51 0 1.02-.2 1.41-.59l7.78-7.78 2.81-2.81c.8-.78.8-2.07 0-2.86zM5.41 20L4 18.59l7.72-7.72 1.47 1.35L5.41 20z\"/>\n",
              "  </svg>\n",
              "      </button>\n",
              "      \n",
              "  <style>\n",
              "    .colab-df-container {\n",
              "      display:flex;\n",
              "      flex-wrap:wrap;\n",
              "      gap: 12px;\n",
              "    }\n",
              "\n",
              "    .colab-df-convert {\n",
              "      background-color: #E8F0FE;\n",
              "      border: none;\n",
              "      border-radius: 50%;\n",
              "      cursor: pointer;\n",
              "      display: none;\n",
              "      fill: #1967D2;\n",
              "      height: 32px;\n",
              "      padding: 0 0 0 0;\n",
              "      width: 32px;\n",
              "    }\n",
              "\n",
              "    .colab-df-convert:hover {\n",
              "      background-color: #E2EBFA;\n",
              "      box-shadow: 0px 1px 2px rgba(60, 64, 67, 0.3), 0px 1px 3px 1px rgba(60, 64, 67, 0.15);\n",
              "      fill: #174EA6;\n",
              "    }\n",
              "\n",
              "    [theme=dark] .colab-df-convert {\n",
              "      background-color: #3B4455;\n",
              "      fill: #D2E3FC;\n",
              "    }\n",
              "\n",
              "    [theme=dark] .colab-df-convert:hover {\n",
              "      background-color: #434B5C;\n",
              "      box-shadow: 0px 1px 3px 1px rgba(0, 0, 0, 0.15);\n",
              "      filter: drop-shadow(0px 1px 2px rgba(0, 0, 0, 0.3));\n",
              "      fill: #FFFFFF;\n",
              "    }\n",
              "  </style>\n",
              "\n",
              "      <script>\n",
              "        const buttonEl =\n",
              "          document.querySelector('#df-83615db1-b3db-4f3f-ac81-36e3366389ef button.colab-df-convert');\n",
              "        buttonEl.style.display =\n",
              "          google.colab.kernel.accessAllowed ? 'block' : 'none';\n",
              "\n",
              "        async function convertToInteractive(key) {\n",
              "          const element = document.querySelector('#df-83615db1-b3db-4f3f-ac81-36e3366389ef');\n",
              "          const dataTable =\n",
              "            await google.colab.kernel.invokeFunction('convertToInteractive',\n",
              "                                                     [key], {});\n",
              "          if (!dataTable) return;\n",
              "\n",
              "          const docLinkHtml = 'Like what you see? Visit the ' +\n",
              "            '<a target=\"_blank\" href=https://colab.research.google.com/notebooks/data_table.ipynb>data table notebook</a>'\n",
              "            + ' to learn more about interactive tables.';\n",
              "          element.innerHTML = '';\n",
              "          dataTable['output_type'] = 'display_data';\n",
              "          await google.colab.output.renderOutput(dataTable, element);\n",
              "          const docLink = document.createElement('div');\n",
              "          docLink.innerHTML = docLinkHtml;\n",
              "          element.appendChild(docLink);\n",
              "        }\n",
              "      </script>\n",
              "    </div>\n",
              "  </div>\n",
              "  "
            ]
          },
          "metadata": {},
          "execution_count": 47
        }
      ]
    },
    {
      "cell_type": "markdown",
      "source": [
        "### Step 5: Calculate the p-value\n"
      ],
      "metadata": {
        "id": "SUC9dgyC27nR"
      }
    },
    {
      "cell_type": "code",
      "source": [
        "#import the required function\n",
        "from scipy.stats import chi2_contingency\n",
        "# find the p-value\n",
        "chi_2, p_value, dof, exp_freq = chi2_contingency(contingency_table)\n",
        "#  p-value\n",
        "print('The p-value is', p_value)"
      ],
      "metadata": {
        "id": "4NJeBgx57ep1",
        "colab": {
          "base_uri": "https://localhost:8080/"
        },
        "outputId": "c81fc636-6f23-44d4-8faa-d6bee1116dae"
      },
      "execution_count": 48,
      "outputs": [
        {
          "output_type": "stream",
          "name": "stdout",
          "text": [
            "The p-value is 0.06171954839170547\n"
          ]
        }
      ]
    },
    {
      "cell_type": "markdown",
      "source": [
        "### Step 6: Compare the p-value with α"
      ],
      "metadata": {
        "id": "xDjwwmIB3AyT"
      }
    },
    {
      "cell_type": "code",
      "source": [
        "# conclusion based on p-value\n",
        "if p_value < 0.05:\n",
        "    print(f'As the p-value {p_value} is less than the level of significance, we reject the null hypothesis.')\n",
        "else:\n",
        "    print(f'As the p-value {p_value} is greater than the level of significance, we fail to reject the null hypothesis.')"
      ],
      "metadata": {
        "id": "0-ppokp72tY_",
        "colab": {
          "base_uri": "https://localhost:8080/"
        },
        "outputId": "19d6748a-f18a-4465-c6d7-b652d7460f66"
      },
      "execution_count": 49,
      "outputs": [
        {
          "output_type": "stream",
          "name": "stdout",
          "text": [
            "As the p-value 0.06171954839170547 is greater than the level of significance, we fail to reject the null hypothesis.\n"
          ]
        }
      ]
    },
    {
      "cell_type": "markdown",
      "source": [
        "### Step 7: Draw inference"
      ],
      "metadata": {
        "id": "lxphPeEB3F36"
      }
    },
    {
      "cell_type": "markdown",
      "source": [
        "Since the p-value is greater than the 5% significance level, we fail to reject the null hypothesis. Hence, we do not have enough statistical evidence to say that their smoking habits depends on their region"
      ],
      "metadata": {
        "id": "tTVjCmef7rSq"
      }
    },
    {
      "cell_type": "markdown",
      "metadata": {
        "id": "CrdgoNFT3-TM"
      },
      "source": [
        "## 5.\tIs the mean BMI of women with no children, one child and two children the same? Explain your answer with statistical evidence."
      ]
    },
    {
      "cell_type": "markdown",
      "source": [
        "### Perform Visual Analysis"
      ],
      "metadata": {
        "id": "moIu5fFD3-TN"
      }
    },
    {
      "cell_type": "code",
      "source": [
        "# create a new DataFrame for customers who are female and have 0,1, or 2 children\n",
        "new_df = df[(df['sex']=='female') & (df['children']<3)]\n"
      ],
      "metadata": {
        "id": "Bq4-AagP8A_N"
      },
      "execution_count": 50,
      "outputs": []
    },
    {
      "cell_type": "code",
      "source": [
        "\n",
        "plt.figure(figsize=(8,6))\n",
        "\n",
        "sns.boxplot( x = \"bmi\" ,y= \"sex\" ,showmeans = True, data = new_df) \n",
        "plt.show()"
      ],
      "metadata": {
        "id": "VHjd4wxv8PAJ",
        "colab": {
          "base_uri": "https://localhost:8080/",
          "height": 0
        },
        "outputId": "dca4673d-4c5e-4cdd-dda8-640850837bcc"
      },
      "execution_count": 51,
      "outputs": [
        {
          "output_type": "display_data",
          "data": {
            "text/plain": [
              "<Figure size 576x432 with 1 Axes>"
            ],
            "image/png": "[encoded data removed]"
          },
          "metadata": {}
        }
      ]
    },
    {
      "cell_type": "markdown",
      "source": [
        ""
      ],
      "metadata": {
        "id": "ge66znXq8DIo"
      }
    },
    {
      "cell_type": "code",
      "source": [
        "# calculate the mean BMI of women with 0, 1, and 2 children\n",
        "new_df.groupby(['children'])['bmi'].mean()"
      ],
      "metadata": {
        "id": "UoJXnyQA1WOv",
        "colab": {
          "base_uri": "https://localhost:8080/"
        },
        "outputId": "3eea82ed-244d-471a-fdcf-e3eaeb3e3fc0"
      },
      "execution_count": 52,
      "outputs": [
        {
          "output_type": "execute_result",
          "data": {
            "text/plain": [
              "children\n",
              "0    30.485502\n",
              "1    30.047500\n",
              "2    30.572437\n",
              "Name: bmi, dtype: float64"
            ]
          },
          "metadata": {},
          "execution_count": 52
        }
      ]
    },
    {
      "cell_type": "markdown",
      "source": [
        "### Step 1: Define the null and alternate hypotheses"
      ],
      "metadata": {
        "id": "KJrf3qth8DA_"
      }
    },
    {
      "cell_type": "markdown",
      "source": [
        "> $H_0:$ The mean BMIs of women with no children, one child, and two are the same.. <br>\n",
        "$H_a:$ At least one of the mean BMIs of women with no children, one child, and two is different"
      ],
      "metadata": {
        "id": "lyYQ9NXo8C6H"
      }
    },
    {
      "cell_type": "markdown",
      "source": [
        "### Step 2: Select Appropriate test"
      ],
      "metadata": {
        "id": "wSfR1W6a8CyS"
      }
    },
    {
      "cell_type": "markdown",
      "source": [
        "This is a problem, concerning three population means. One-way ANOVA could be the appropriate test here provided normality and equality of variance assumptions are verified."
      ],
      "metadata": {
        "id": "OTQl3tkK92UI"
      }
    },
    {
      "cell_type": "markdown",
      "source": [
        "### Shapiro-Wilk’s test\n",
        "\n",
        "\n",
        ">$H_0:$ BMI of women follows a normal distribution\n",
        "\n",
        "against the alternative hypothesis\n",
        "\n",
        ">$H_a:$ BMI of women does not follow a normal distribution"
      ],
      "metadata": {
        "id": "aL6zyrfA8BUo"
      }
    },
    {
      "cell_type": "code",
      "source": [
        "#p-value\n",
        "w, p_value = stats.shapiro(new_df['bmi'])\n",
        "print('The p-value is', p_value)"
      ],
      "metadata": {
        "id": "ez3eyjnX-BGq",
        "colab": {
          "base_uri": "https://localhost:8080/"
        },
        "outputId": "b07bc7ae-e484-4e9f-af15-2673b08e163e"
      },
      "execution_count": 53,
      "outputs": [
        {
          "output_type": "stream",
          "name": "stdout",
          "text": [
            "The p-value is 0.20654043555259705\n"
          ]
        }
      ]
    },
    {
      "cell_type": "markdown",
      "source": [
        "Since p-value of the test is very larger than the 5% significance level, we fail to reject the null hypothesis that the response follows the normal distribution."
      ],
      "metadata": {
        "id": "Ku749wxI-JY1"
      }
    },
    {
      "cell_type": "markdown",
      "source": [
        "### Levene’s test\n",
        "\n",
        ">$H_0$: All the population variances are equal\n",
        "\n",
        "\n",
        ">$H_a$: At least one variance is different from the rest"
      ],
      "metadata": {
        "id": "lLWOTIea-TLe"
      }
    },
    {
      "cell_type": "code",
      "source": [
        "#p-value\n",
        "statistic, p_value = stats.levene(new_df[new_df['children']==0]['bmi'], \n",
        "                             new_df[new_df['children']==1]['bmi'], \n",
        "                             new_df[new_df['children']==2]['bmi'])\n",
        "\n",
        "print('The p-value is', p_value)"
      ],
      "metadata": {
        "id": "6VClybbo-gFT",
        "colab": {
          "base_uri": "https://localhost:8080/"
        },
        "outputId": "24c4a93a-cb87-4b7d-a790-f860a5bbf7d2"
      },
      "execution_count": 54,
      "outputs": [
        {
          "output_type": "stream",
          "name": "stdout",
          "text": [
            "The p-value is 0.33762398820932993\n"
          ]
        }
      ]
    },
    {
      "cell_type": "markdown",
      "source": [
        "The p-value is larger than the 5% significance level, we fail to reject the null hypothesis "
      ],
      "metadata": {
        "id": "Bv751Vgz-mEV"
      }
    },
    {
      "cell_type": "markdown",
      "source": [
        "### Step 3: Decide the significance level"
      ],
      "metadata": {
        "id": "wtffj3R1-teb"
      }
    },
    {
      "cell_type": "markdown",
      "source": [
        "As given in the problem statement, we select α = 0.05."
      ],
      "metadata": {
        "id": "vkfcKfmT-tSb"
      }
    },
    {
      "cell_type": "markdown",
      "source": [
        ""
      ],
      "metadata": {
        "id": "67B51lho-zG3"
      }
    },
    {
      "cell_type": "code",
      "source": [
        "#  BMI of women with 0 children \n",
        "bmi_women_zero_child = new_df[new_df['children']==0]['bmi']\n",
        "# BMI of women with 1 children \n",
        "bmi_women_one_child =  bmi_women_zero = new_df[new_df['children']==1]['bmi']\n",
        "#  BMI of women with 2 children \n",
        "bmi_women_two_child = bmi_women_zero = new_df[new_df['children']==2]['bmi']"
      ],
      "metadata": {
        "id": "AUxU5jzQ-3hZ"
      },
      "execution_count": 55,
      "outputs": []
    },
    {
      "cell_type": "markdown",
      "source": [
        "### Step 5: Calculate the p-value"
      ],
      "metadata": {
        "id": "qV8rXo93_JOm"
      }
    },
    {
      "cell_type": "code",
      "source": [
        "from scipy.stats import f_oneway \n",
        "\n",
        "# calculate the p-value\n",
        "test_stat, p_value =   f_oneway(bmi_women_zero_child, bmi_women_one_child, bmi_women_two_child)  \n",
        "\n",
        "print('The p-value is', p_value)"
      ],
      "metadata": {
        "id": "k8uDq64e_J6r",
        "colab": {
          "base_uri": "https://localhost:8080/"
        },
        "outputId": "a9a2c402-ee3c-4b75-eec6-de5ae3b2c960"
      },
      "execution_count": 56,
      "outputs": [
        {
          "output_type": "stream",
          "name": "stdout",
          "text": [
            "The p-value is 0.7200129592186635\n"
          ]
        }
      ]
    },
    {
      "cell_type": "markdown",
      "source": [
        "### Step 6: Compare the p-value with $\\alpha$"
      ],
      "metadata": {
        "id": "aWL9jp5v_MmQ"
      }
    },
    {
      "cell_type": "code",
      "source": [
        "#conclusion based on p-value\n",
        "if p_value < 0.05:\n",
        "    print(f'As the p-value {p_value} is less than the level of significance, we reject the null hypothesis.')\n",
        "else:\n",
        "    print(f'As the p-value {p_value} is greater than the level of significance, we fail to reject the null hypothesis.')"
      ],
      "metadata": {
        "id": "rDul-4nQ_rDE",
        "colab": {
          "base_uri": "https://localhost:8080/"
        },
        "outputId": "c2f22ded-f8bb-45c5-a8d4-73d6a4095be7"
      },
      "execution_count": 57,
      "outputs": [
        {
          "output_type": "stream",
          "name": "stdout",
          "text": [
            "As the p-value 0.7200129592186635 is greater than the level of significance, we fail to reject the null hypothesis.\n"
          ]
        }
      ]
    },
    {
      "cell_type": "markdown",
      "source": [
        "### Step 7:  Draw inference"
      ],
      "metadata": {
        "id": "NFdh0bmE_NpV"
      }
    },
    {
      "cell_type": "markdown",
      "source": [
        "Since the p-value is greater than the 5% significance level, we fail to reject the null hypothesis. Hence, we do not have enough statistical evidence to say that the mean BMI of women with zero, one or two children are the same"
      ],
      "metadata": {
        "id": "eusqT6Y5_w5K"
      }
    },
    {
      "cell_type": "markdown",
      "metadata": {
        "id": "mNg00leq3-TN"
      },
      "source": [
        "## Conclusion and Business Recommendations"
      ]
    },
    {
      "cell_type": "markdown",
      "metadata": {
        "id": "KSfnQJ5d3-TN"
      },
      "source": [
        "* Members claims that are smokers are greater then non-smokers\n",
        "\n",
        "----- This means that since smokers will have higher chances of claims than there should be a fee for smokers who are under the insurance policy\n",
        "\n",
        "*  The BMI rate for members who are female is the same as the BMI rate for members who are males.\n",
        "*  smoking habits are independant of their region\n",
        "\n",
        "--- It doesnt matter where someone lives they're region does not affect their smoking habits\n",
        "\n",
        "* The BMI of women dependants on how many children they have\n",
        "\n",
        "----- this means there should offer news letter or any kind of information to women with children on how to lower their BMI or even create a rewards program to motivate women to lower there bmi\n"
      ]
    },
    {
      "cell_type": "code",
      "source": [
        ""
      ],
      "metadata": {
        "id": "t-TEqMIs4Zhe"
      },
      "execution_count": 57,
      "outputs": []
    }
  ],
  "metadata": {
    "kernelspec": {
      "display_name": "Python 3",
      "language": "python",
      "name": "python3"
    },
    "language_info": {
      "codemirror_mode": {
        "name": "ipython",
        "version": 3
      },
      "file_extension": ".py",
      "mimetype": "text/x-python",
      "name": "python",
      "nbconvert_exporter": "python",
      "pygments_lexer": "ipython3",
      "version": "3.8.8"
    },
    "colab": {
      "name": "Lillyvette_Pecina_Axis_Insurance.ipynb",
      "provenance": [],
      "include_colab_link": true
    }
  },
  "nbformat": 4,
  "nbformat_minor": 0
}