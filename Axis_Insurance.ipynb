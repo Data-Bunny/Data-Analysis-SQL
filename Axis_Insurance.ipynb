{
  "cells": [
    {
      "cell_type": "markdown",
      "metadata": {
        "id": "view-in-github",
        "colab_type": "text"
      },
      "source": [
        "<a href=\"https://colab.research.google.com/github/Lillyvettee/DataProfolio/blob/main/Axis_Insurance.ipynb\" target=\"_parent\"><img src=\"https://colab.research.google.com/assets/colab-badge.svg\" alt=\"Open In Colab\"/></a>"
      ]
    },
    {
      "cell_type": "markdown",
      "metadata": {
        "id": "ZhiVly2S3-Sy"
      },
      "source": [
        "# Project Business Statistics: Axis Insurance\n",
        "\n",
        "**Marks: 60**"
      ]
    },
    {
      "cell_type": "markdown",
      "metadata": {
        "id": "m26kpytI3-S3"
      },
      "source": [
        "## Define Problem Statement and Objectives"
      ]
    },
    {
      "cell_type": "markdown",
      "metadata": {
        "id": "808kKvkL3-S4"
      },
      "source": [
        ""
      ]
    },
    {
      "cell_type": "markdown",
      "metadata": {
        "id": "xXxE0N1L3-S4"
      },
      "source": [
        "## Import all the necessary libraries"
      ]
    },
    {
      "cell_type": "code",
      "execution_count": 1,
      "metadata": {
        "id": "6VUFbHXE3-S6"
      },
      "outputs": [],
      "source": [
        "import numpy as np\n",
        "import pandas as pd\n",
        "from matplotlib import pyplot as plt\n",
        "%matplotlib inline\n",
        "import seaborn as sns\n",
        "\n",
        "# library for statistical tests\n",
        "import scipy.stats as stats"
      ]
    },
    {
      "cell_type": "code",
      "execution_count": 2,
      "metadata": {
        "id": "aaKg7OqF3-S8"
      },
      "outputs": [],
      "source": [
        "sns.set() #setting the default seaborn style for our plots"
      ]
    },
    {
      "cell_type": "markdown",
      "metadata": {
        "id": "nANBJsTb3-S9"
      },
      "source": [
        "## 1.\tExplore the dataset and extract insights using Exploratory Data Analysis. (8 + 6 = 14 Marks)"
      ]
    },
    {
      "cell_type": "markdown",
      "metadata": {
        "id": "ZWYMB80S3-S-"
      },
      "source": [
        "### Exploratory Data Analysis - Step by step approach\n",
        "\n",
        "Typical Data exploration activity consists of the following steps:\n",
        "1.\tImporting Data\n",
        "2.\tVariable Identification\n",
        "3.  Variable Transformation/Feature Creation\n",
        "4.  Missing value detection\n",
        "5.\tUnivariate Analysis\n",
        "6.\tBivariate Analysis"
      ]
    },
    {
      "cell_type": "markdown",
      "metadata": {
        "id": "sHVKfojL3-S-"
      },
      "source": [
        "### Reading the Data into a DataFrame"
      ]
    },
    {
      "cell_type": "code",
      "source": [
        "from google.colab import drive\n",
        "drive.mount('/content/drive')"
      ],
      "metadata": {
        "colab": {
          "base_uri": "https://localhost:8080/"
        },
        "id": "eJqaDK7y5aWM",
        "outputId": "83116e9e-7515-46a8-9fe3-32904112ea53"
      },
      "execution_count": 3,
      "outputs": [
        {
          "output_type": "stream",
          "name": "stdout",
          "text": [
            "Mounted at /content/drive\n"
          ]
        }
      ]
    },
    {
      "cell_type": "code",
      "execution_count": 4,
      "metadata": {
        "id": "MoNPXsRy3-S_",
        "colab": {
          "base_uri": "https://localhost:8080/",
          "height": 329
        },
        "outputId": "b9e597a4-8f3d-46f3-e528-6a2e0cae827f"
      },
      "outputs": [
        {
          "output_type": "error",
          "ename": "FileNotFoundError",
          "evalue": "ignored",
          "traceback": [
            "\u001b[0;31m---------------------------------------------------------------------------\u001b[0m",
            "\u001b[0;31mFileNotFoundError\u001b[0m                         Traceback (most recent call last)",
            "\u001b[0;32m<ipython-input-4-5aa5d73f6385>\u001b[0m in \u001b[0;36m<module>\u001b[0;34m()\u001b[0m\n\u001b[1;32m      1\u001b[0m \u001b[0;31m# write the code for reading the dataset AxisInsurance.csv\u001b[0m\u001b[0;34m\u001b[0m\u001b[0;34m\u001b[0m\u001b[0;34m\u001b[0m\u001b[0m\n\u001b[0;32m----> 2\u001b[0;31m \u001b[0mdf\u001b[0m \u001b[0;34m=\u001b[0m \u001b[0mpd\u001b[0m\u001b[0;34m.\u001b[0m\u001b[0mread_csv\u001b[0m\u001b[0;34m(\u001b[0m\u001b[0;34m'/content/drive/MyDrive/GreatLearning/SupervisedLearning/SupervisedLearningClassification/Project/AxisInsurance.csv'\u001b[0m\u001b[0;34m)\u001b[0m\u001b[0;34m\u001b[0m\u001b[0;34m\u001b[0m\u001b[0m\n\u001b[0m",
            "\u001b[0;32m/usr/local/lib/python3.7/dist-packages/pandas/util/_decorators.py\u001b[0m in \u001b[0;36mwrapper\u001b[0;34m(*args, **kwargs)\u001b[0m\n\u001b[1;32m    309\u001b[0m                     \u001b[0mstacklevel\u001b[0m\u001b[0;34m=\u001b[0m\u001b[0mstacklevel\u001b[0m\u001b[0;34m,\u001b[0m\u001b[0;34m\u001b[0m\u001b[0;34m\u001b[0m\u001b[0m\n\u001b[1;32m    310\u001b[0m                 )\n\u001b[0;32m--> 311\u001b[0;31m             \u001b[0;32mreturn\u001b[0m \u001b[0mfunc\u001b[0m\u001b[0;34m(\u001b[0m\u001b[0;34m*\u001b[0m\u001b[0margs\u001b[0m\u001b[0;34m,\u001b[0m \u001b[0;34m**\u001b[0m\u001b[0mkwargs\u001b[0m\u001b[0;34m)\u001b[0m\u001b[0;34m\u001b[0m\u001b[0;34m\u001b[0m\u001b[0m\n\u001b[0m\u001b[1;32m    312\u001b[0m \u001b[0;34m\u001b[0m\u001b[0m\n\u001b[1;32m    313\u001b[0m         \u001b[0;32mreturn\u001b[0m \u001b[0mwrapper\u001b[0m\u001b[0;34m\u001b[0m\u001b[0;34m\u001b[0m\u001b[0m\n",
            "\u001b[0;32m/usr/local/lib/python3.7/dist-packages/pandas/io/parsers/readers.py\u001b[0m in \u001b[0;36mread_csv\u001b[0;34m(filepath_or_buffer, sep, delimiter, header, names, index_col, usecols, squeeze, prefix, mangle_dupe_cols, dtype, engine, converters, true_values, false_values, skipinitialspace, skiprows, skipfooter, nrows, na_values, keep_default_na, na_filter, verbose, skip_blank_lines, parse_dates, infer_datetime_format, keep_date_col, date_parser, dayfirst, cache_dates, iterator, chunksize, compression, thousands, decimal, lineterminator, quotechar, quoting, doublequote, escapechar, comment, encoding, encoding_errors, dialect, error_bad_lines, warn_bad_lines, on_bad_lines, delim_whitespace, low_memory, memory_map, float_precision, storage_options)\u001b[0m\n\u001b[1;32m    584\u001b[0m     \u001b[0mkwds\u001b[0m\u001b[0;34m.\u001b[0m\u001b[0mupdate\u001b[0m\u001b[0;34m(\u001b[0m\u001b[0mkwds_defaults\u001b[0m\u001b[0;34m)\u001b[0m\u001b[0;34m\u001b[0m\u001b[0;34m\u001b[0m\u001b[0m\n\u001b[1;32m    585\u001b[0m \u001b[0;34m\u001b[0m\u001b[0m\n\u001b[0;32m--> 586\u001b[0;31m     \u001b[0;32mreturn\u001b[0m \u001b[0m_read\u001b[0m\u001b[0;34m(\u001b[0m\u001b[0mfilepath_or_buffer\u001b[0m\u001b[0;34m,\u001b[0m \u001b[0mkwds\u001b[0m\u001b[0;34m)\u001b[0m\u001b[0;34m\u001b[0m\u001b[0;34m\u001b[0m\u001b[0m\n\u001b[0m\u001b[1;32m    587\u001b[0m \u001b[0;34m\u001b[0m\u001b[0m\n\u001b[1;32m    588\u001b[0m \u001b[0;34m\u001b[0m\u001b[0m\n",
            "\u001b[0;32m/usr/local/lib/python3.7/dist-packages/pandas/io/parsers/readers.py\u001b[0m in \u001b[0;36m_read\u001b[0;34m(filepath_or_buffer, kwds)\u001b[0m\n\u001b[1;32m    480\u001b[0m \u001b[0;34m\u001b[0m\u001b[0m\n\u001b[1;32m    481\u001b[0m     \u001b[0;31m# Create the parser.\u001b[0m\u001b[0;34m\u001b[0m\u001b[0;34m\u001b[0m\u001b[0;34m\u001b[0m\u001b[0m\n\u001b[0;32m--> 482\u001b[0;31m     \u001b[0mparser\u001b[0m \u001b[0;34m=\u001b[0m \u001b[0mTextFileReader\u001b[0m\u001b[0;34m(\u001b[0m\u001b[0mfilepath_or_buffer\u001b[0m\u001b[0;34m,\u001b[0m \u001b[0;34m**\u001b[0m\u001b[0mkwds\u001b[0m\u001b[0;34m)\u001b[0m\u001b[0;34m\u001b[0m\u001b[0;34m\u001b[0m\u001b[0m\n\u001b[0m\u001b[1;32m    483\u001b[0m \u001b[0;34m\u001b[0m\u001b[0m\n\u001b[1;32m    484\u001b[0m     \u001b[0;32mif\u001b[0m \u001b[0mchunksize\u001b[0m \u001b[0;32mor\u001b[0m \u001b[0miterator\u001b[0m\u001b[0;34m:\u001b[0m\u001b[0;34m\u001b[0m\u001b[0;34m\u001b[0m\u001b[0m\n",
            "\u001b[0;32m/usr/local/lib/python3.7/dist-packages/pandas/io/parsers/readers.py\u001b[0m in \u001b[0;36m__init__\u001b[0;34m(self, f, engine, **kwds)\u001b[0m\n\u001b[1;32m    809\u001b[0m             \u001b[0mself\u001b[0m\u001b[0;34m.\u001b[0m\u001b[0moptions\u001b[0m\u001b[0;34m[\u001b[0m\u001b[0;34m\"has_index_names\"\u001b[0m\u001b[0;34m]\u001b[0m \u001b[0;34m=\u001b[0m \u001b[0mkwds\u001b[0m\u001b[0;34m[\u001b[0m\u001b[0;34m\"has_index_names\"\u001b[0m\u001b[0;34m]\u001b[0m\u001b[0;34m\u001b[0m\u001b[0;34m\u001b[0m\u001b[0m\n\u001b[1;32m    810\u001b[0m \u001b[0;34m\u001b[0m\u001b[0m\n\u001b[0;32m--> 811\u001b[0;31m         \u001b[0mself\u001b[0m\u001b[0;34m.\u001b[0m\u001b[0m_engine\u001b[0m \u001b[0;34m=\u001b[0m \u001b[0mself\u001b[0m\u001b[0;34m.\u001b[0m\u001b[0m_make_engine\u001b[0m\u001b[0;34m(\u001b[0m\u001b[0mself\u001b[0m\u001b[0;34m.\u001b[0m\u001b[0mengine\u001b[0m\u001b[0;34m)\u001b[0m\u001b[0;34m\u001b[0m\u001b[0;34m\u001b[0m\u001b[0m\n\u001b[0m\u001b[1;32m    812\u001b[0m \u001b[0;34m\u001b[0m\u001b[0m\n\u001b[1;32m    813\u001b[0m     \u001b[0;32mdef\u001b[0m \u001b[0mclose\u001b[0m\u001b[0;34m(\u001b[0m\u001b[0mself\u001b[0m\u001b[0;34m)\u001b[0m\u001b[0;34m:\u001b[0m\u001b[0;34m\u001b[0m\u001b[0;34m\u001b[0m\u001b[0m\n",
            "\u001b[0;32m/usr/local/lib/python3.7/dist-packages/pandas/io/parsers/readers.py\u001b[0m in \u001b[0;36m_make_engine\u001b[0;34m(self, engine)\u001b[0m\n\u001b[1;32m   1038\u001b[0m             )\n\u001b[1;32m   1039\u001b[0m         \u001b[0;31m# error: Too many arguments for \"ParserBase\"\u001b[0m\u001b[0;34m\u001b[0m\u001b[0;34m\u001b[0m\u001b[0;34m\u001b[0m\u001b[0m\n\u001b[0;32m-> 1040\u001b[0;31m         \u001b[0;32mreturn\u001b[0m \u001b[0mmapping\u001b[0m\u001b[0;34m[\u001b[0m\u001b[0mengine\u001b[0m\u001b[0;34m]\u001b[0m\u001b[0;34m(\u001b[0m\u001b[0mself\u001b[0m\u001b[0;34m.\u001b[0m\u001b[0mf\u001b[0m\u001b[0;34m,\u001b[0m \u001b[0;34m**\u001b[0m\u001b[0mself\u001b[0m\u001b[0;34m.\u001b[0m\u001b[0moptions\u001b[0m\u001b[0;34m)\u001b[0m  \u001b[0;31m# type: ignore[call-arg]\u001b[0m\u001b[0;34m\u001b[0m\u001b[0;34m\u001b[0m\u001b[0m\n\u001b[0m\u001b[1;32m   1041\u001b[0m \u001b[0;34m\u001b[0m\u001b[0m\n\u001b[1;32m   1042\u001b[0m     \u001b[0;32mdef\u001b[0m \u001b[0m_failover_to_python\u001b[0m\u001b[0;34m(\u001b[0m\u001b[0mself\u001b[0m\u001b[0;34m)\u001b[0m\u001b[0;34m:\u001b[0m\u001b[0;34m\u001b[0m\u001b[0;34m\u001b[0m\u001b[0m\n",
            "\u001b[0;32m/usr/local/lib/python3.7/dist-packages/pandas/io/parsers/c_parser_wrapper.py\u001b[0m in \u001b[0;36m__init__\u001b[0;34m(self, src, **kwds)\u001b[0m\n\u001b[1;32m     49\u001b[0m \u001b[0;34m\u001b[0m\u001b[0m\n\u001b[1;32m     50\u001b[0m         \u001b[0;31m# open handles\u001b[0m\u001b[0;34m\u001b[0m\u001b[0;34m\u001b[0m\u001b[0;34m\u001b[0m\u001b[0m\n\u001b[0;32m---> 51\u001b[0;31m         \u001b[0mself\u001b[0m\u001b[0;34m.\u001b[0m\u001b[0m_open_handles\u001b[0m\u001b[0;34m(\u001b[0m\u001b[0msrc\u001b[0m\u001b[0;34m,\u001b[0m \u001b[0mkwds\u001b[0m\u001b[0;34m)\u001b[0m\u001b[0;34m\u001b[0m\u001b[0;34m\u001b[0m\u001b[0m\n\u001b[0m\u001b[1;32m     52\u001b[0m         \u001b[0;32massert\u001b[0m \u001b[0mself\u001b[0m\u001b[0;34m.\u001b[0m\u001b[0mhandles\u001b[0m \u001b[0;32mis\u001b[0m \u001b[0;32mnot\u001b[0m \u001b[0;32mNone\u001b[0m\u001b[0;34m\u001b[0m\u001b[0;34m\u001b[0m\u001b[0m\n\u001b[1;32m     53\u001b[0m \u001b[0;34m\u001b[0m\u001b[0m\n",
            "\u001b[0;32m/usr/local/lib/python3.7/dist-packages/pandas/io/parsers/base_parser.py\u001b[0m in \u001b[0;36m_open_handles\u001b[0;34m(self, src, kwds)\u001b[0m\n\u001b[1;32m    227\u001b[0m             \u001b[0mmemory_map\u001b[0m\u001b[0;34m=\u001b[0m\u001b[0mkwds\u001b[0m\u001b[0;34m.\u001b[0m\u001b[0mget\u001b[0m\u001b[0;34m(\u001b[0m\u001b[0;34m\"memory_map\"\u001b[0m\u001b[0;34m,\u001b[0m \u001b[0;32mFalse\u001b[0m\u001b[0;34m)\u001b[0m\u001b[0;34m,\u001b[0m\u001b[0;34m\u001b[0m\u001b[0;34m\u001b[0m\u001b[0m\n\u001b[1;32m    228\u001b[0m             \u001b[0mstorage_options\u001b[0m\u001b[0;34m=\u001b[0m\u001b[0mkwds\u001b[0m\u001b[0;34m.\u001b[0m\u001b[0mget\u001b[0m\u001b[0;34m(\u001b[0m\u001b[0;34m\"storage_options\"\u001b[0m\u001b[0;34m,\u001b[0m \u001b[0;32mNone\u001b[0m\u001b[0;34m)\u001b[0m\u001b[0;34m,\u001b[0m\u001b[0;34m\u001b[0m\u001b[0;34m\u001b[0m\u001b[0m\n\u001b[0;32m--> 229\u001b[0;31m             \u001b[0merrors\u001b[0m\u001b[0;34m=\u001b[0m\u001b[0mkwds\u001b[0m\u001b[0;34m.\u001b[0m\u001b[0mget\u001b[0m\u001b[0;34m(\u001b[0m\u001b[0;34m\"encoding_errors\"\u001b[0m\u001b[0;34m,\u001b[0m \u001b[0;34m\"strict\"\u001b[0m\u001b[0;34m)\u001b[0m\u001b[0;34m,\u001b[0m\u001b[0;34m\u001b[0m\u001b[0;34m\u001b[0m\u001b[0m\n\u001b[0m\u001b[1;32m    230\u001b[0m         )\n\u001b[1;32m    231\u001b[0m \u001b[0;34m\u001b[0m\u001b[0m\n",
            "\u001b[0;32m/usr/local/lib/python3.7/dist-packages/pandas/io/common.py\u001b[0m in \u001b[0;36mget_handle\u001b[0;34m(path_or_buf, mode, encoding, compression, memory_map, is_text, errors, storage_options)\u001b[0m\n\u001b[1;32m    705\u001b[0m                 \u001b[0mencoding\u001b[0m\u001b[0;34m=\u001b[0m\u001b[0mioargs\u001b[0m\u001b[0;34m.\u001b[0m\u001b[0mencoding\u001b[0m\u001b[0;34m,\u001b[0m\u001b[0;34m\u001b[0m\u001b[0;34m\u001b[0m\u001b[0m\n\u001b[1;32m    706\u001b[0m                 \u001b[0merrors\u001b[0m\u001b[0;34m=\u001b[0m\u001b[0merrors\u001b[0m\u001b[0;34m,\u001b[0m\u001b[0;34m\u001b[0m\u001b[0;34m\u001b[0m\u001b[0m\n\u001b[0;32m--> 707\u001b[0;31m                 \u001b[0mnewline\u001b[0m\u001b[0;34m=\u001b[0m\u001b[0;34m\"\"\u001b[0m\u001b[0;34m,\u001b[0m\u001b[0;34m\u001b[0m\u001b[0;34m\u001b[0m\u001b[0m\n\u001b[0m\u001b[1;32m    708\u001b[0m             )\n\u001b[1;32m    709\u001b[0m         \u001b[0;32melse\u001b[0m\u001b[0;34m:\u001b[0m\u001b[0;34m\u001b[0m\u001b[0;34m\u001b[0m\u001b[0m\n",
            "\u001b[0;31mFileNotFoundError\u001b[0m: [Errno 2] No such file or directory: '/content/drive/MyDrive/GreatLearning/SupervisedLearning/SupervisedLearningClassification/Project/AxisInsurance.csv'"
          ]
        }
      ],
      "source": [
        "# write the code for reading the dataset AxisInsurance.csv\n",
        "df = pd.read_csv('/content/drive/MyDrive/GreatLearning/SupervisedLearning/SupervisedLearningClassification/Project/AxisInsurance.csv')"
      ]
    },
    {
      "cell_type": "markdown",
      "metadata": {
        "id": "-fzmbQ8I3-TA"
      },
      "source": [
        "### Data Overview\n",
        "- View a few rows of the data frame.\n",
        "- Check the shape and data types of the data frame. Add observations.\n",
        "- Fix the data-types (if needed).\n",
        "- Missing Value Check.\n",
        "- Summary statistics from the data frame. Add observations."
      ]
    },
    {
      "cell_type": "code",
      "execution_count": null,
      "metadata": {
        "id": "Fzr9CQ6S3-TA"
      },
      "outputs": [],
      "source": [
        "#Displaying the first few rows of the dataset\n",
        "df.head()"
      ]
    },
    {
      "cell_type": "markdown",
      "source": [
        "The first few rows shows a majority of the people gender as male and the lowest bmi is 16 and the highest is 33. everyone one the first few rows arnt smokers"
      ],
      "metadata": {
        "id": "qlcptPRBj3h9"
      }
    },
    {
      "cell_type": "code",
      "source": [
        "df.shape"
      ],
      "metadata": {
        "id": "-USqfFE658IT"
      },
      "execution_count": null,
      "outputs": []
    },
    {
      "cell_type": "markdown",
      "source": [
        "There is 1338 rows and 7 columns"
      ],
      "metadata": {
        "id": "P5LKQ0SYkGqj"
      }
    },
    {
      "cell_type": "code",
      "source": [
        "df.info()"
      ],
      "metadata": {
        "id": "byD6rffW5_gb"
      },
      "execution_count": null,
      "outputs": []
    },
    {
      "cell_type": "markdown",
      "source": [
        "* There are total 1338 non-null observations in each of the columns.\n",
        "\n",
        "* There are 7 columns named **'age', 'sex', 'bmi', 'children', 'smoker', 'region', 'charges'** whose data types are **int64, object, float64, int64, object, object, float64** respectively.\n",
        "\n",
        "* sex, smoker and region are objects, we can change them to categories.\n"
      ],
      "metadata": {
        "id": "xvxTZ5M76Gvx"
      }
    },
    {
      "cell_type": "markdown",
      "source": [
        "### Fixing the data types"
      ],
      "metadata": {
        "id": "tpuotZ4O6pvF"
      }
    },
    {
      "cell_type": "code",
      "source": [
        "#setting category \n",
        "df[\"sex\"]=df[\"sex\"].astype(\"category\")\n",
        "df[\"smoker\"]=df[\"smoker\"].astype(\"category\")\n",
        "df[\"region\"]=df[\"region\"].astype(\"category\")"
      ],
      "metadata": {
        "id": "mr6L7iqY6o2k"
      },
      "execution_count": null,
      "outputs": []
    },
    {
      "cell_type": "markdown",
      "source": [
        "### Check for missing values"
      ],
      "metadata": {
        "id": "BsL_LpNb62Qd"
      }
    },
    {
      "cell_type": "code",
      "source": [
        "df.isnull().sum()"
      ],
      "metadata": {
        "id": "K3V3slvd64tK"
      },
      "execution_count": null,
      "outputs": []
    },
    {
      "cell_type": "markdown",
      "source": [
        "there is no missisng values"
      ],
      "metadata": {
        "id": "7gHlR7kjkhUL"
      }
    },
    {
      "cell_type": "markdown",
      "source": [
        "### Five Point Summary"
      ],
      "metadata": {
        "id": "l4JuxHNX7e1S"
      }
    },
    {
      "cell_type": "code",
      "source": [
        "#statistical summary \n",
        "df.describe().T"
      ],
      "metadata": {
        "id": "SBQLKjVw7cw_"
      },
      "execution_count": null,
      "outputs": []
    },
    {
      "cell_type": "markdown",
      "source": [
        "the mean bmi is 30 and the mean age is 39"
      ],
      "metadata": {
        "id": "xbHaq9uJkoR2"
      }
    },
    {
      "cell_type": "code",
      "source": [
        "df['sex'].value_counts()"
      ],
      "metadata": {
        "id": "m9wisl-b7lhu"
      },
      "execution_count": null,
      "outputs": []
    },
    {
      "cell_type": "markdown",
      "source": [
        "there is 676 males and 662 females\n"
      ],
      "metadata": {
        "id": "FoIhvdtqku3v"
      }
    },
    {
      "cell_type": "code",
      "source": [
        "df['smoker'].value_counts()"
      ],
      "metadata": {
        "id": "-3Slw5vl7lsb"
      },
      "execution_count": null,
      "outputs": []
    },
    {
      "cell_type": "markdown",
      "source": [
        "there is 1064 non-smokers and 274 smokers"
      ],
      "metadata": {
        "id": "LkLMTg3Ek1-3"
      }
    },
    {
      "cell_type": "code",
      "source": [
        "df['region'].value_counts()"
      ],
      "metadata": {
        "id": "ADcaiSs97l2N"
      },
      "execution_count": null,
      "outputs": []
    },
    {
      "cell_type": "markdown",
      "source": [
        "in the southeast  region there is   364 people and in the \n",
        "northwest region there is 325 people while in the \n",
        "southwest region there is 325 and in the \n",
        "northeast region 324 people"
      ],
      "metadata": {
        "id": "jNnnKv_ck8dX"
      }
    },
    {
      "cell_type": "markdown",
      "metadata": {
        "id": "AUsDXrS33-TA"
      },
      "source": [
        "### Univariate analysis"
      ]
    },
    {
      "cell_type": "code",
      "execution_count": null,
      "metadata": {
        "id": "HkLS14uE3-TB"
      },
      "outputs": [],
      "source": [
        "# function to plot a boxplot and a histogram along the same scale.\n",
        "\n",
        "\n",
        "def histogram_boxplot(data, feature, figsize=(12, 7), kde=False, bins=None):\n",
        "    \"\"\"\n",
        "    Boxplot and histogram combined\n",
        "\n",
        "    data: dataframe\n",
        "    feature: dataframe column\n",
        "    figsize: size of figure (default (12,7))\n",
        "    kde: whether to show the density curve (default False)\n",
        "    bins: number of bins for histogram (default None)\n",
        "    \"\"\"\n",
        "    f2, (ax_box2, ax_hist2) = plt.subplots(\n",
        "        nrows=2,  # Number of rows of the subplot grid= 2\n",
        "        sharex=True,  # x-axis will be shared among all subplots\n",
        "        gridspec_kw={\"height_ratios\": (0.25, 0.75)},\n",
        "        figsize=figsize,\n",
        "    )  # creating the 2 subplots\n",
        "    sns.boxplot(\n",
        "        data=data, x=feature, ax=ax_box2, showmeans=True, color=\"violet\"\n",
        "    )  # boxplot will be created and a star will indicate the mean value of the column\n",
        "    sns.histplot(\n",
        "        data=data, x=feature, kde=kde, ax=ax_hist2, bins=bins, palette=\"winter\"\n",
        "    ) if bins else sns.histplot(\n",
        "        data=data, x=feature, kde=kde, ax=ax_hist2\n",
        "    )  # For histogram\n",
        "    ax_hist2.axvline(\n",
        "        data[feature].mean(), color=\"green\", linestyle=\"--\"\n",
        "    )  # Add mean to the histogram\n",
        "    ax_hist2.axvline(\n",
        "        data[feature].median(), color=\"black\", linestyle=\"-\"\n",
        "    )  # Add median to the histogram"
      ]
    },
    {
      "cell_type": "code",
      "execution_count": null,
      "metadata": {
        "id": "3mlTZCjY3-TB"
      },
      "outputs": [],
      "source": [
        "# function to create labeled barplots\n",
        "\n",
        "\n",
        "def labeled_barplot(data, feature, perc=False, n=None):\n",
        "    \"\"\"\n",
        "    Barplot with percentage at the top\n",
        "\n",
        "    data: dataframe\n",
        "    feature: dataframe column\n",
        "    perc: whether to display percentages instead of count (default is False)\n",
        "    n: displays the top n category levels (default is None, i.e., display all levels)\n",
        "    \"\"\"\n",
        "\n",
        "    total = len(data[feature])  # length of the column\n",
        "    count = data[feature].nunique()\n",
        "    if n is None:\n",
        "        plt.figure(figsize=(count + 1, 5))\n",
        "    else:\n",
        "        plt.figure(figsize=(n + 1, 5))\n",
        "\n",
        "    plt.xticks(rotation=90, fontsize=15)\n",
        "    ax = sns.countplot(data=data, x=feature, palette=\"Paired\", order=data[feature].value_counts().index[:n].sort_values())\n",
        "\n",
        "    for p in ax.patches:\n",
        "        if perc == True:\n",
        "            label = \"{:.1f}%\".format(100 * p.get_height() / total)  # percentage of each class of the category\n",
        "        else:\n",
        "            label = p.get_height()  # count of each level of the category\n",
        "\n",
        "        x = p.get_x() + p.get_width() / 2  # width of the plot\n",
        "        y = p.get_height()  # height of the plot\n",
        "\n",
        "        ax.annotate(label, (x, y), ha=\"center\", va=\"center\", size=12, xytext=(0, 5), textcoords=\"offset points\")  # annotate the percentage\n",
        "\n",
        "    plt.show()  # show the plot"
      ]
    },
    {
      "cell_type": "markdown",
      "source": [
        "#### Age"
      ],
      "metadata": {
        "id": "jSigkQ8H7_Kb"
      }
    },
    {
      "cell_type": "code",
      "source": [
        "# plotting the distribution of 'age'\n",
        "histogram_boxplot(df,'age')"
      ],
      "metadata": {
        "id": "ZZ0AtvP37-Vp"
      },
      "execution_count": null,
      "outputs": []
    },
    {
      "cell_type": "markdown",
      "source": [
        "The age medium is 40 and the Q1 is 15 while the Q3 iw 55"
      ],
      "metadata": {
        "id": "08IQES1flutH"
      }
    },
    {
      "cell_type": "markdown",
      "source": [
        "#### BMI"
      ],
      "metadata": {
        "id": "8UYTQWBN8I_L"
      }
    },
    {
      "cell_type": "code",
      "execution_count": null,
      "metadata": {
        "id": "KhKL1eIe3-TD"
      },
      "outputs": [],
      "source": [
        "# plotting the distribution of 'BMI'\n",
        "histogram_boxplot(df, 'bmi')"
      ]
    },
    {
      "cell_type": "markdown",
      "source": [
        "The medium is 30 and the Q1 is 28 while the Q3 is 35"
      ],
      "metadata": {
        "id": "E2WSDQCLmFSh"
      }
    },
    {
      "cell_type": "markdown",
      "source": [
        "#### Children"
      ],
      "metadata": {
        "id": "ztMTGTv-8UA4"
      }
    },
    {
      "cell_type": "code",
      "source": [
        "# plotting the distribution of 'children'\n",
        "histogram_boxplot(df,'children')"
      ],
      "metadata": {
        "id": "DAFoG8Wh75xZ"
      },
      "execution_count": null,
      "outputs": []
    },
    {
      "cell_type": "markdown",
      "source": [
        "The medium is 1 and the Q1 is 0 while the Q3 is 2"
      ],
      "metadata": {
        "id": "X_BkA8oSmQso"
      }
    },
    {
      "cell_type": "markdown",
      "source": [
        "#### Charges"
      ],
      "metadata": {
        "id": "MTconqbo85jC"
      }
    },
    {
      "cell_type": "code",
      "source": [
        "# plotting the distribution of 'charges'\n",
        "histogram_boxplot(df,'charges')"
      ],
      "metadata": {
        "id": "CggT8FT676ih"
      },
      "execution_count": null,
      "outputs": []
    },
    {
      "cell_type": "markdown",
      "source": [
        "The medium is 10000 and the Q1 is 500 while the Q3 is 10500 with outliers"
      ],
      "metadata": {
        "id": "XVcOzTxcmXY3"
      }
    },
    {
      "cell_type": "markdown",
      "source": [
        "#### Sex"
      ],
      "metadata": {
        "id": "qFicBi7H9LpL"
      }
    },
    {
      "cell_type": "code",
      "source": [
        "# plotting the barplot of 'sex'\n",
        "labeled_barplot(df, 'sex', perc=True)"
      ],
      "metadata": {
        "id": "WhzuzNZO76sh"
      },
      "execution_count": null,
      "outputs": []
    },
    {
      "cell_type": "markdown",
      "source": [
        "there is 49.5 percent of people that are females while 50.5 percent are males"
      ],
      "metadata": {
        "id": "HVy2bFDimg9Z"
      }
    },
    {
      "cell_type": "markdown",
      "source": [
        "#### Children"
      ],
      "metadata": {
        "id": "q3Mqph909WMW"
      }
    },
    {
      "cell_type": "code",
      "source": [
        "# plotting the barplot of 'children'\n",
        "labeled_barplot(df, 'children', perc=True)"
      ],
      "metadata": {
        "id": "tLxL96J476zZ"
      },
      "execution_count": null,
      "outputs": []
    },
    {
      "cell_type": "markdown",
      "source": [
        "Most of the children are a few months old"
      ],
      "metadata": {
        "id": "LDLe8q00mo7r"
      }
    },
    {
      "cell_type": "markdown",
      "source": [
        "#### Smoker"
      ],
      "metadata": {
        "id": "Ff9k3Yxd9fzW"
      }
    },
    {
      "cell_type": "code",
      "source": [
        "# plotting the barplot of 'Smoker'\n",
        "labeled_barplot(df, 'smoker', perc=True)"
      ],
      "metadata": {
        "id": "cFB6X6hl77CK"
      },
      "execution_count": null,
      "outputs": []
    },
    {
      "cell_type": "markdown",
      "source": [
        "Most of the people dont smoke"
      ],
      "metadata": {
        "id": "u-fwlEi1mtjN"
      }
    },
    {
      "cell_type": "markdown",
      "source": [
        "#### Region"
      ],
      "metadata": {
        "id": "cJ4K-JZp9dvR"
      }
    },
    {
      "cell_type": "code",
      "source": [
        "# plotting the barplot of 'region'\n",
        "labeled_barplot(df, 'region', perc=True)"
      ],
      "metadata": {
        "id": "X65CN26G9ewc"
      },
      "execution_count": null,
      "outputs": []
    },
    {
      "cell_type": "markdown",
      "source": [
        "Everyone is roughly spread out in all the regions"
      ],
      "metadata": {
        "id": "SdkJAE1Gmxbi"
      }
    },
    {
      "cell_type": "markdown",
      "metadata": {
        "id": "--tU7e5S3-TE"
      },
      "source": [
        "### Bivariate Analysis"
      ]
    },
    {
      "cell_type": "code",
      "source": [
        "sns.barplot(data=df, x = \"children\" , y= \"charges\")  \n",
        "plt.show()"
      ],
      "metadata": {
        "id": "skZcI7v_HBgU"
      },
      "execution_count": null,
      "outputs": []
    },
    {
      "cell_type": "code",
      "source": [
        "plt.figure(figsize=(10,7))\n",
        "sns.boxplot(data=df,x='sex',y='bmi')\n",
        "plt.show()"
      ],
      "metadata": {
        "id": "_7fZfrHGHRPC"
      },
      "execution_count": null,
      "outputs": []
    },
    {
      "cell_type": "code",
      "source": [
        "plt.figure(figsize=(10,7))\n",
        "sns.boxplot(data=df,x='children',y='bmi')\n",
        "plt.show()"
      ],
      "metadata": {
        "id": "3TMpBca--TFN"
      },
      "execution_count": null,
      "outputs": []
    },
    {
      "cell_type": "code",
      "source": [
        "plt.figure(figsize=(10,7))\n",
        "sns.boxplot(data=df,x='bmi',y='smoker')\n",
        "plt.show()"
      ],
      "metadata": {
        "id": "dHa-WBXr-cvX"
      },
      "execution_count": null,
      "outputs": []
    },
    {
      "cell_type": "code",
      "source": [
        "plt.figure(figsize=(10,7))\n",
        "sns.boxplot(data=df,x='charges',y='region')\n",
        "plt.show()"
      ],
      "metadata": {
        "id": "07BY7htJ-i1q"
      },
      "execution_count": null,
      "outputs": []
    },
    {
      "cell_type": "code",
      "source": [
        "plt.figure(figsize=(10,7))\n",
        "sns.boxplot(data=df,x='smoker',y='charges')\n",
        "plt.show()"
      ],
      "metadata": {
        "id": "S_vb9FWX_C5q"
      },
      "execution_count": null,
      "outputs": []
    },
    {
      "cell_type": "markdown",
      "metadata": {
        "id": "8UMUeAB-3-TE"
      },
      "source": [
        "## 2. Prove(or disprove)  that the medical claims made by the people who smoke is greater than those who don't? "
      ]
    },
    {
      "cell_type": "markdown",
      "metadata": {
        "id": "O9wChoGQ3-TF"
      },
      "source": [
        "### Perform Visual Analysis"
      ]
    },
    {
      "cell_type": "code",
      "execution_count": null,
      "metadata": {
        "id": "vOqrG74n3-TF"
      },
      "outputs": [],
      "source": [
        "# Medical charges for smokers and non-smokers\n",
        "plt.figure(figsize=(8,6))\n",
        "sns.scatterplot(data = df, x = 'age', y = 'charges', hue='smoker',  palette= ['blue','green'] )\n",
        "plt.show()"
      ]
    },
    {
      "cell_type": "markdown",
      "source": [
        "Smokers have more expensive chargers and it looks like there are evenly spread out through age group. Non smokers have charges that cost less"
      ],
      "metadata": {
        "id": "GeMzBBIYnF9W"
      }
    },
    {
      "cell_type": "markdown",
      "metadata": {
        "id": "dw5C-ThM3-TG"
      },
      "source": [
        "### Step 1: Define the null and alternate hypotheses"
      ]
    },
    {
      "cell_type": "markdown",
      "metadata": {
        "id": "6FZjQxxE3-TG"
      },
      "source": [
        ">Ho The mean medical claims made by members who smoke is the same as than the mean number of cliams that are made by members who dont smoke. <br>\n",
        "> H0:  The mean medical claims made by smoking members is greater than to the mean claims made by members who dont smoke"
      ]
    },
    {
      "cell_type": "markdown",
      "metadata": {
        "id": "jChihi5E3-TH"
      },
      "source": [
        "### Step 2: Select Appropriate test"
      ]
    },
    {
      "cell_type": "markdown",
      "metadata": {
        "id": "UKvva8hy3-TH"
      },
      "source": [
        "This is a one-tailed test concerning two population means from two independent populations. The population standard deviations are unknown so the appropriate test will be the two sample independent t-test\n"
      ]
    },
    {
      "cell_type": "markdown",
      "metadata": {
        "id": "L0v51kgs3-TH"
      },
      "source": [
        "### Step 3: Decide the significance level"
      ]
    },
    {
      "cell_type": "markdown",
      "metadata": {
        "id": "MVKKmOo33-TI"
      },
      "source": [
        "Significance stated by stackholders is α = 0.05."
      ]
    },
    {
      "cell_type": "markdown",
      "metadata": {
        "id": "d7p1bL1R3-TI"
      },
      "source": [
        "### Step 4: Collect and prepare data"
      ]
    },
    {
      "cell_type": "code",
      "execution_count": null,
      "metadata": {
        "id": "XFm5m23T3-TI"
      },
      "outputs": [],
      "source": [
        "# extract values for smokers and non_smokers\n",
        "smokers_charges = df[df['smoker'] == 'yes']['charges']\n",
        "non_smokers_charges =  df[df['smoker'] == 'no']['charges']"
      ]
    },
    {
      "cell_type": "code",
      "execution_count": null,
      "metadata": {
        "id": "ngDDP5QV39C7"
      },
      "outputs": [],
      "source": [
        "print(\"The sample mean of the charges of smokers is:\", round(smokers_charges.mean(),2))\n",
        "print(\"The sample mean of the charges of non-smokers:\", round(non_smokers_charges.mean(),2))\n",
        "print('The sample standard deviation of the charges of smokers is:', round(smokers_charges.std(),2))\n",
        "print('The sample standard deviation of the charges of non-smokers is:', round(non_smokers_charges.std(),2))"
      ]
    },
    {
      "cell_type": "markdown",
      "source": [
        "As the sample standard deviations are different, the population standard deviations may be assumed to be different."
      ],
      "metadata": {
        "id": "Irdl5Tu1ow2u"
      }
    },
    {
      "cell_type": "markdown",
      "metadata": {
        "id": "dhdzDWs73-TJ"
      },
      "source": [
        "### Step 5: Calculate the p-value"
      ]
    },
    {
      "cell_type": "code",
      "execution_count": null,
      "metadata": {
        "id": "uiaIC1X23-TK"
      },
      "outputs": [],
      "source": [
        "#importing ttest_ind\n",
        "from scipy.stats import ttest_ind \n",
        "\n",
        "#find the p-value\n",
        "test_stat, p_value = ttest_ind(smokers_charges,non_smokers_charges, equal_var = False)\n",
        "\n",
        "print('The p-value is', p_value)"
      ]
    },
    {
      "cell_type": "markdown",
      "metadata": {
        "id": "1eizeVNn3-TK"
      },
      "source": [
        "### Step 6: Compare the p-value with $\\alpha$"
      ]
    },
    {
      "cell_type": "code",
      "execution_count": null,
      "metadata": {
        "id": "saf_XUqT3-TK"
      },
      "outputs": [],
      "source": [
        "if p_value < 0.05:\n",
        "    print(f'As the p-value {p_value} is less than the level of significance, we reject the null hypothesis.')\n",
        "else:\n",
        "    print(f'As the p-value {p_value} is greater than the level of significance, we fail to reject the null hypothesis.')"
      ]
    },
    {
      "cell_type": "markdown",
      "metadata": {
        "id": "3GkhqFQb3-TL"
      },
      "source": [
        "### Step 7:  Draw inference"
      ]
    },
    {
      "cell_type": "markdown",
      "metadata": {
        "id": "ecrqbWI13-TL"
      },
      "source": [
        "Since the p-value is greater than the 5% significance level, we fail to reject the null hypothesis. Hence, we have enough statistical evidence to say that the mean of members claims that are smokers are greater then non-smokers\n"
      ]
    },
    {
      "cell_type": "markdown",
      "metadata": {
        "id": "wSkSRI9u3-TL"
      },
      "source": [
        "## 3. Prove (or disprove) with statistical evidence that BMI of females is different from that of males."
      ]
    },
    {
      "cell_type": "code",
      "execution_count": null,
      "metadata": {
        "id": "YTE_ecQ_3-TM"
      },
      "outputs": [],
      "source": [
        "# visual analysis of the BMI of females vs males\n",
        "sns.barplot ( data=df, x='sex', y = 'bmi')\n",
        "plt.show()"
      ]
    },
    {
      "cell_type": "markdown",
      "source": [
        "By observing the above plot, we can say that overall BMI of members that are male is higher than females"
      ],
      "metadata": {
        "id": "_hvXFjf9uwC-"
      }
    },
    {
      "cell_type": "markdown",
      "source": [
        "### Step 1: Define the null and alternative hypotheses"
      ],
      "metadata": {
        "id": "6FJLXEjivC6d"
      }
    },
    {
      "cell_type": "markdown",
      "source": [
        "> $H_0:$ The BMI rate for members who are female is the same as the BMI rate for members who are males. <br>\n",
        "> $H_a:$ The BMI rate for members who are female is have a BMI that is lower than  the BMI rate for members who are male."
      ],
      "metadata": {
        "id": "UWXze9mMvCrJ"
      }
    },
    {
      "cell_type": "markdown",
      "source": [
        "### Step 2: Select Appropriate test"
      ],
      "metadata": {
        "id": "ufe8rxnmvCVa"
      }
    },
    {
      "cell_type": "markdown",
      "source": [
        "This is a one-tailed test concerning two population proportions from two independent populations. Hence, the two-sample proportion z-test will be the appropriate test for this problem."
      ],
      "metadata": {
        "id": "DZJ2xgC4vBel"
      }
    },
    {
      "cell_type": "markdown",
      "source": [
        "### Step 3: Decide the significance level"
      ],
      "metadata": {
        "id": "3j4UFLixvvXA"
      }
    },
    {
      "cell_type": "markdown",
      "source": [
        "As given in the problem statement, we select α = 0.05."
      ],
      "metadata": {
        "id": "BcnbcjjAvvgt"
      }
    },
    {
      "cell_type": "markdown",
      "source": [
        "### Step 4: Collect and prepare data"
      ],
      "metadata": {
        "id": "jFqpJxrjvxNx"
      }
    },
    {
      "cell_type": "code",
      "source": [
        "# number of female bmi\n",
        "female_bmi = df[df.sex=='female']['bmi']\n",
        "# number of male bmi\n",
        "male_bmi = df[df.sex=='male']['bmi']\n",
        "\n",
        "\n",
        "# number of female \n",
        "female_count = df[df.sex=='female'].value_counts().sum()\n",
        "# number of male bmi\n",
        "male_count = df[df.sex=='male'].value_counts().sum()\n",
        "print(female_count)\n",
        "print(male_count)"
      ],
      "metadata": {
        "id": "CPfiuKgpv3Ei"
      },
      "execution_count": null,
      "outputs": []
    },
    {
      "cell_type": "code",
      "execution_count": null,
      "metadata": {
        "id": "WTetnqzk39DE"
      },
      "outputs": [],
      "source": [
        "print(\"The sample mean of the BMI's of females is:\", round(female_bmi.mean(),2))\n",
        "print(\"The sample mean of the BMI's of males is:\", round(male_bmi.mean(),2))\n",
        "print(\"The sample standard deviation of the BMI's of females is:\", round(female_bmi.std(),2))\n",
        "print(\"The sample standard deviation of the BMI's of males is:\", round(male_bmi.std(),2))"
      ]
    },
    {
      "cell_type": "markdown",
      "source": [
        ""
      ],
      "metadata": {
        "id": "itRAkYXNv2qX"
      }
    },
    {
      "cell_type": "markdown",
      "source": [
        "### Step 5: Calculate the p-value"
      ],
      "metadata": {
        "id": "JmyWRStBv592"
      }
    },
    {
      "cell_type": "code",
      "source": [
        "from statsmodels.stats.proportion import proportions_ztest\n",
        "\n",
        "test_stat, p_value = proportions_ztest([30,39], [female_count,male_count],alternative=\"larger\")\n",
        "print('The p-value is', p_value)"
      ],
      "metadata": {
        "id": "2psutS7t-ReX"
      },
      "execution_count": null,
      "outputs": []
    },
    {
      "cell_type": "markdown",
      "source": [
        "### Step 6: Compare the p-value with $\\alpha$"
      ],
      "metadata": {
        "id": "XBsPHegCzVhx"
      }
    },
    {
      "cell_type": "code",
      "source": [
        "# conclusion based on p-value\n",
        "if p_value < 0.05:\n",
        "    print(f'As the p-value {p_value} is less than the level of significance, we reject the null hypothesis.')\n",
        "else:\n",
        "    print(f'As the p-value {p_value} is greater than the level of significance, we fail to reject the null hypothesis.')"
      ],
      "metadata": {
        "id": "sH00kBv7zTxW"
      },
      "execution_count": null,
      "outputs": []
    },
    {
      "cell_type": "markdown",
      "source": [
        "### Step 7:  Draw inference"
      ],
      "metadata": {
        "id": "91cRiieszVov"
      }
    },
    {
      "cell_type": "markdown",
      "source": [
        "the p value is greater than the level of significance, we fail to reject the null hypothesis. The BMI rate for members who are female is the same as the BMI rate for members who are males."
      ],
      "metadata": {
        "id": "8Jz3mfQPEXMx"
      }
    },
    {
      "cell_type": "markdown",
      "metadata": {
        "id": "bew59Gf_3-TM"
      },
      "source": [
        "## 4. Does the smoking habit of customers depend on their region?\n"
      ]
    },
    {
      "cell_type": "markdown",
      "source": [
        "### Perform Visual Analysis"
      ],
      "metadata": {
        "id": "r8I1fv2-3OzI"
      }
    },
    {
      "cell_type": "code",
      "source": [
        "pd.crosstab(df['region'],df['smoker'],normalize='index').plot(kind=\"bar\", figsize=(8,8), stacked=True) \n",
        "plt.show()"
      ],
      "metadata": {
        "id": "PJit4UJ93PzF"
      },
      "execution_count": null,
      "outputs": []
    },
    {
      "cell_type": "markdown",
      "source": [
        "The distribution members who smoke is not uniformly distributed. "
      ],
      "metadata": {
        "id": "Ij5AHYeA6GF5"
      }
    },
    {
      "cell_type": "markdown",
      "source": [
        "### Step 1: Define the null and alternate hypotheses"
      ],
      "metadata": {
        "id": "_5dDu4_62uAh"
      }
    },
    {
      "cell_type": "markdown",
      "source": [
        "> $H_0:$ The members who smoke  are the same no matter what their region is <br>\n",
        "$H_a:$ The members who smoke  depends on their region"
      ],
      "metadata": {
        "id": "xp-guYUF6ryn"
      }
    },
    {
      "cell_type": "markdown",
      "source": [
        "### Step 2: Select Appropriate test\n"
      ],
      "metadata": {
        "id": "7HDpHQG62vhk"
      }
    },
    {
      "cell_type": "markdown",
      "source": [
        "This is a problem of Chi-square test of independence, concerning the two independent categorical variables, - smoker and region."
      ],
      "metadata": {
        "id": "RZMmtgr-6_QK"
      }
    },
    {
      "cell_type": "markdown",
      "source": [
        "### Step 3: Decide the significance level\n"
      ],
      "metadata": {
        "id": "gvFaUVDN2zLl"
      }
    },
    {
      "cell_type": "markdown",
      "source": [
        "As given in the problem statement, we select α = 0.05."
      ],
      "metadata": {
        "id": "ur3lWxJ77SaO"
      }
    },
    {
      "cell_type": "markdown",
      "source": [
        "### Step 4: Collect and prepare data\n"
      ],
      "metadata": {
        "id": "Wt0XFfdO23Ww"
      }
    },
    {
      "cell_type": "code",
      "source": [
        "# the table showing the distribution of two categorical variables\n",
        "contingency_table = pd.crosstab(df['smoker'], df['region'])\n",
        "contingency_table"
      ],
      "metadata": {
        "id": "jEpsMRPK4LnA"
      },
      "execution_count": null,
      "outputs": []
    },
    {
      "cell_type": "markdown",
      "source": [
        "### Step 5: Calculate the p-value\n"
      ],
      "metadata": {
        "id": "SUC9dgyC27nR"
      }
    },
    {
      "cell_type": "code",
      "source": [
        "#import the required function\n",
        "from scipy.stats import chi2_contingency\n",
        "# find the p-value\n",
        "chi_2, p_value, dof, exp_freq = chi2_contingency(contingency_table)\n",
        "#  p-value\n",
        "print('The p-value is', p_value)"
      ],
      "metadata": {
        "id": "4NJeBgx57ep1"
      },
      "execution_count": null,
      "outputs": []
    },
    {
      "cell_type": "markdown",
      "source": [
        "### Step 6: Compare the p-value with α"
      ],
      "metadata": {
        "id": "xDjwwmIB3AyT"
      }
    },
    {
      "cell_type": "code",
      "source": [
        "# conclusion based on p-value\n",
        "if p_value < 0.05:\n",
        "    print(f'As the p-value {p_value} is less than the level of significance, we reject the null hypothesis.')\n",
        "else:\n",
        "    print(f'As the p-value {p_value} is greater than the level of significance, we fail to reject the null hypothesis.')"
      ],
      "metadata": {
        "id": "0-ppokp72tY_"
      },
      "execution_count": null,
      "outputs": []
    },
    {
      "cell_type": "markdown",
      "source": [
        "### Step 7: Draw inference"
      ],
      "metadata": {
        "id": "lxphPeEB3F36"
      }
    },
    {
      "cell_type": "markdown",
      "source": [
        "Since the p-value is greater than the 5% significance level, we fail to reject the null hypothesis. Hence, we do not have enough statistical evidence to say that their smoking habits depends on their region"
      ],
      "metadata": {
        "id": "tTVjCmef7rSq"
      }
    },
    {
      "cell_type": "markdown",
      "metadata": {
        "id": "CrdgoNFT3-TM"
      },
      "source": [
        "## 5.\tIs the mean BMI of women with no children, one child and two children the same? Explain your answer with statistical evidence."
      ]
    },
    {
      "cell_type": "markdown",
      "source": [
        "### Perform Visual Analysis"
      ],
      "metadata": {
        "id": "moIu5fFD3-TN"
      }
    },
    {
      "cell_type": "code",
      "source": [
        "# create a new DataFrame for customers who are female and have 0,1, or 2 children\n",
        "new_df = df[(df['sex']=='female') & (df['children']<3)]\n"
      ],
      "metadata": {
        "id": "Bq4-AagP8A_N"
      },
      "execution_count": null,
      "outputs": []
    },
    {
      "cell_type": "code",
      "source": [
        "\n",
        "plt.figure(figsize=(8,6))\n",
        "\n",
        "sns.boxplot( x = \"bmi\" ,y= \"sex\" ,showmeans = True, data = new_df) \n",
        "plt.show()"
      ],
      "metadata": {
        "id": "VHjd4wxv8PAJ"
      },
      "execution_count": null,
      "outputs": []
    },
    {
      "cell_type": "markdown",
      "source": [
        ""
      ],
      "metadata": {
        "id": "ge66znXq8DIo"
      }
    },
    {
      "cell_type": "code",
      "source": [
        "# calculate the mean BMI of women with 0, 1, and 2 children\n",
        "new_df.groupby(['children'])['bmi'].mean()"
      ],
      "metadata": {
        "id": "UoJXnyQA1WOv"
      },
      "execution_count": null,
      "outputs": []
    },
    {
      "cell_type": "markdown",
      "source": [
        "### Step 1: Define the null and alternate hypotheses"
      ],
      "metadata": {
        "id": "KJrf3qth8DA_"
      }
    },
    {
      "cell_type": "markdown",
      "source": [
        "> $H_0:$ The mean BMIs of women with no children, one child, and two are the same.. <br>\n",
        "$H_a:$ At least one of the mean BMIs of women with no children, one child, and two is different"
      ],
      "metadata": {
        "id": "lyYQ9NXo8C6H"
      }
    },
    {
      "cell_type": "markdown",
      "source": [
        "### Step 2: Select Appropriate test"
      ],
      "metadata": {
        "id": "wSfR1W6a8CyS"
      }
    },
    {
      "cell_type": "markdown",
      "source": [
        "This is a problem, concerning three population means. One-way ANOVA could be the appropriate test here provided normality and equality of variance assumptions are verified."
      ],
      "metadata": {
        "id": "OTQl3tkK92UI"
      }
    },
    {
      "cell_type": "markdown",
      "source": [
        "### Shapiro-Wilk’s test\n",
        "\n",
        "\n",
        ">$H_0:$ BMI of women follows a normal distribution\n",
        "\n",
        "against the alternative hypothesis\n",
        "\n",
        ">$H_a:$ BMI of women does not follow a normal distribution"
      ],
      "metadata": {
        "id": "aL6zyrfA8BUo"
      }
    },
    {
      "cell_type": "code",
      "source": [
        "#p-value\n",
        "w, p_value = stats.shapiro(new_df['bmi'])\n",
        "print('The p-value is', p_value)"
      ],
      "metadata": {
        "id": "ez3eyjnX-BGq"
      },
      "execution_count": null,
      "outputs": []
    },
    {
      "cell_type": "markdown",
      "source": [
        "Since p-value of the test is very larger than the 5% significance level, we fail to reject the null hypothesis that the response follows the normal distribution."
      ],
      "metadata": {
        "id": "Ku749wxI-JY1"
      }
    },
    {
      "cell_type": "markdown",
      "source": [
        "### Levene’s test\n",
        "\n",
        ">$H_0$: All the population variances are equal\n",
        "\n",
        "\n",
        ">$H_a$: At least one variance is different from the rest"
      ],
      "metadata": {
        "id": "lLWOTIea-TLe"
      }
    },
    {
      "cell_type": "code",
      "source": [
        "#p-value\n",
        "statistic, p_value = stats.levene(new_df[new_df['children']==0]['bmi'], \n",
        "                             new_df[new_df['children']==1]['bmi'], \n",
        "                             new_df[new_df['children']==2]['bmi'])\n",
        "\n",
        "print('The p-value is', p_value)"
      ],
      "metadata": {
        "id": "6VClybbo-gFT"
      },
      "execution_count": null,
      "outputs": []
    },
    {
      "cell_type": "markdown",
      "source": [
        "The p-value is larger than the 5% significance level, we fail to reject the null hypothesis "
      ],
      "metadata": {
        "id": "Bv751Vgz-mEV"
      }
    },
    {
      "cell_type": "markdown",
      "source": [
        "### Step 3: Decide the significance level"
      ],
      "metadata": {
        "id": "wtffj3R1-teb"
      }
    },
    {
      "cell_type": "markdown",
      "source": [
        "As given in the problem statement, we select α = 0.05."
      ],
      "metadata": {
        "id": "vkfcKfmT-tSb"
      }
    },
    {
      "cell_type": "markdown",
      "source": [
        ""
      ],
      "metadata": {
        "id": "67B51lho-zG3"
      }
    },
    {
      "cell_type": "code",
      "source": [
        "#  BMI of women with 0 children \n",
        "bmi_women_zero_child = new_df[new_df['children']==0]['bmi']\n",
        "# BMI of women with 1 children \n",
        "bmi_women_one_child =  bmi_women_zero = new_df[new_df['children']==1]['bmi']\n",
        "#  BMI of women with 2 children \n",
        "bmi_women_two_child = bmi_women_zero = new_df[new_df['children']==2]['bmi']"
      ],
      "metadata": {
        "id": "AUxU5jzQ-3hZ"
      },
      "execution_count": null,
      "outputs": []
    },
    {
      "cell_type": "markdown",
      "source": [
        "### Step 5: Calculate the p-value"
      ],
      "metadata": {
        "id": "qV8rXo93_JOm"
      }
    },
    {
      "cell_type": "code",
      "source": [
        "from scipy.stats import f_oneway \n",
        "\n",
        "# calculate the p-value\n",
        "test_stat, p_value =   f_oneway(bmi_women_zero_child, bmi_women_one_child, bmi_women_two_child)  \n",
        "\n",
        "print('The p-value is', p_value)"
      ],
      "metadata": {
        "id": "k8uDq64e_J6r"
      },
      "execution_count": null,
      "outputs": []
    },
    {
      "cell_type": "markdown",
      "source": [
        "### Step 6: Compare the p-value with $\\alpha$"
      ],
      "metadata": {
        "id": "aWL9jp5v_MmQ"
      }
    },
    {
      "cell_type": "code",
      "source": [
        "#conclusion based on p-value\n",
        "if p_value < 0.05:\n",
        "    print(f'As the p-value {p_value} is less than the level of significance, we reject the null hypothesis.')\n",
        "else:\n",
        "    print(f'As the p-value {p_value} is greater than the level of significance, we fail to reject the null hypothesis.')"
      ],
      "metadata": {
        "id": "rDul-4nQ_rDE"
      },
      "execution_count": null,
      "outputs": []
    },
    {
      "cell_type": "markdown",
      "source": [
        "### Step 7:  Draw inference"
      ],
      "metadata": {
        "id": "NFdh0bmE_NpV"
      }
    },
    {
      "cell_type": "markdown",
      "source": [
        "Since the p-value is greater than the 5% significance level, we fail to reject the null hypothesis. Hence, we do not have enough statistical evidence to say that the mean BMI of women with zero, one or two children are the same"
      ],
      "metadata": {
        "id": "eusqT6Y5_w5K"
      }
    },
    {
      "cell_type": "markdown",
      "metadata": {
        "id": "mNg00leq3-TN"
      },
      "source": [
        "## Conclusion and Business Recommendations"
      ]
    },
    {
      "cell_type": "markdown",
      "metadata": {
        "id": "KSfnQJ5d3-TN"
      },
      "source": [
        "* Members claims that are smokers are greater then non-smokers\n",
        "\n",
        "----- This means that since smokers will have higher chances of claims than there should be a fee for smokers who are under the insurance policy\n",
        "\n",
        "*  The BMI rate for members who are female is the same as the BMI rate for members who are males.\n",
        "*  smoking habits are independant of their region\n",
        "\n",
        "--- It doesnt matter where someone lives they're region does not affect their smoking habits\n",
        "\n",
        "* The BMI of women dependants on how many children they have\n",
        "\n",
        "----- this means there should offer news letter or any kind of information to women with children on how to lower their BMI or even create a rewards program to motivate women to lower there bmi\n"
      ]
    },
    {
      "cell_type": "code",
      "source": [
        ""
      ],
      "metadata": {
        "id": "t-TEqMIs4Zhe"
      },
      "execution_count": null,
      "outputs": []
    }
  ],
  "metadata": {
    "kernelspec": {
      "display_name": "Python 3",
      "language": "python",
      "name": "python3"
    },
    "language_info": {
      "codemirror_mode": {
        "name": "ipython",
        "version": 3
      },
      "file_extension": ".py",
      "mimetype": "text/x-python",
      "name": "python",
      "nbconvert_exporter": "python",
      "pygments_lexer": "ipython3",
      "version": "3.8.8"
    },
    "colab": {
      "name": "Lillyvette_Pecina_Axis_Insurance.ipynb",
      "provenance": [],
      "include_colab_link": true
    }
  },
  "nbformat": 4,
  "nbformat_minor": 0
}